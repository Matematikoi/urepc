{
 "cells": [
  {
   "cell_type": "code",
   "execution_count": 56,
   "id": "ae4c508e-ba14-43e3-8d68-d7d984026651",
   "metadata": {},
   "outputs": [],
   "source": [
    "import pandas as pd\n",
    "import numpy as np \n",
    "import seaborn as sns \n",
    "from sklearn.cluster import KMeans\n",
    "from scipy import stats\n",
    "from sklearn.decomposition import PCA"
   ]
  },
  {
   "cell_type": "code",
   "execution_count": 2,
   "id": "64ad906b-4b2f-4609-aa50-783dd8a37dd0",
   "metadata": {},
   "outputs": [],
   "source": [
    "# use pca?"
   ]
  },
  {
   "cell_type": "code",
   "execution_count": 3,
   "id": "cc661996-30ab-4407-b3c3-d8a5ff1f4fec",
   "metadata": {},
   "outputs": [],
   "source": [
    "data_points_1 = pd.read_csv('./data/1_5_CPMcutoff_suffix_1_log_cero_replacement.csv', index_col = 0)\n",
    "data_points_2 = pd.read_csv('./data/1_5_CPMcutoff_suffix_2_log_cero_replacement.csv', index_col = 0)\n",
    "data_points_3 = pd.read_csv('./data/1_5_CPMcutoff_suffix_3_log_cero_replacement.csv', index_col = 0)\n",
    "data_points = pd.merge(left = data_points_1, right = data_points_2, left_index = True, right_index = True)\n",
    "data_points = pd.merge(left = data_points, right = data_points_3, left_index = True, right_index = True)"
   ]
  },
  {
   "cell_type": "code",
   "execution_count": 222,
   "id": "d4f2bd2a-da2f-4012-8217-8ec2005c136f",
   "metadata": {},
   "outputs": [],
   "source": [
    "class Random_K_Means():\n",
    "    '''\n",
    "    K means for random SME initialization\n",
    "    '''\n",
    "    def __init__(self, data, cluster_size = 20, pca_dim = 4):\n",
    "        '''\n",
    "        data is a pandas dataframe\n",
    "        '''\n",
    "        self.data = data\n",
    "        self.cluster_size = cluster_size\n",
    "        self.pca_dim = pca_dim\n",
    "        self.pca()\n",
    "        \n",
    "    def k_means_labels(self, pca = False):\n",
    "        '''\n",
    "        Returns K means labels with the data and the specified cluster size\n",
    "        '''\n",
    "        if pca:\n",
    "            result = KMeans(n_clusters= 20, tol=1e-8, max_iter= 1000).fit(self.data_pca.values).labels_\n",
    "        else :\n",
    "            result = KMeans(n_clusters= 20, tol=1e-8, max_iter= 1000).fit(self.data.values).labels_\n",
    "        return result\n",
    "    \n",
    "    def pca(self):\n",
    "        '''\n",
    "        Makes a pca with the data, makes the data a new dataframe with\n",
    "        the values from the pca\n",
    "        '''\n",
    "        pca = PCA(n_components=self.pca_dim, svd_solver='full')\n",
    "        self.data_pca = pd.DataFrame(pca.fit_transform(self.data.values))\n",
    "        \n",
    "    def get_random_starts_limits(\n",
    "        self,\n",
    "        labels,\n",
    "        mean_geom= False,\n",
    "        std_geom = False\n",
    "    ):\n",
    "        data = self.data if not pca else self.data_pca\n",
    "        means, stds = [],[]\n",
    "        for label in np.unique(labels):\n",
    "            sub_data = data[labels == label]\n",
    "            means.append(\n",
    "                stats.gmean(sub_data.mean()) if mean_geom else sub_data.mean().mean()\n",
    "            )\n",
    "            stds.append(\n",
    "                stats.gmean(sub_data.std()) if mean_geom else sub_data.std().mean()\n",
    "            )\n",
    "        return np.array(means), np.array(stds)\n",
    "    def get_center_sample_from_data(\n",
    "        self, \n",
    "        pca = False,\n",
    "        mean_geom = False,\n",
    "        std_geom = False\n",
    "    ):\n",
    "        means, stds = self.get_random_starts_limits(\n",
    "            foo.k_means_labels(\n",
    "                    pca = pca,\n",
    "            ),\n",
    "            mean_geom= mean_geom,\n",
    "            std_geom = std_geom\n",
    "        )\n",
    "        min_val = means - 2* stds\n",
    "        for i in range(min_val.size):\n",
    "            r = np.random.randint(11)\n",
    "            min_val[i] += r * (stds[i]* 4/10)\n",
    "        return min_val\n",
    "        \n",
    "foo = Random_K_Means(data = data_points)"
   ]
  },
  {
   "cell_type": "code",
   "execution_count": 223,
   "id": "a8211285-0a7e-4817-a730-78bc530f6be3",
   "metadata": {},
   "outputs": [
    {
     "data": {
      "text/plain": [
       "array([-0.70400123,  0.67857863, -1.62025791,  0.25089805,  2.67915812,\n",
       "       -2.25444693,  2.57866529, -1.0162908 , -0.65217418, -0.00614044,\n",
       "        1.66509969,  0.6079784 , -1.53646759,  2.48513418, -3.54366261,\n",
       "        2.24580868, -1.17518095,  0.27469305,  0.52357198, -1.72169983])"
      ]
     },
     "execution_count": 223,
     "metadata": {},
     "output_type": "execute_result"
    }
   ],
   "source": [
    "foo.get_center_sample_from_data()"
   ]
  },
  {
   "cell_type": "code",
   "execution_count": 220,
   "id": "e9199cd3-b5ed-4c77-86ff-8d2967896d32",
   "metadata": {},
   "outputs": [
    {
     "name": "stdout",
     "output_type": "stream",
     "text": [
      "[ 1.11399584  1.33752043  2.42904978 -0.66542412 -0.26152211  1.99651448\n",
      "  0.07489734 -0.07131973  2.22715781  1.16697071  3.08968594  0.24734934\n",
      "  3.7732575   1.94268724  3.06899807  0.59220575  1.3884292   2.44327127\n",
      "  2.35725496 -0.30893816]\n",
      "5\n",
      "8\n",
      "9\n",
      "10\n",
      "1\n",
      "5\n",
      "9\n",
      "8\n",
      "6\n",
      "3\n",
      "6\n",
      "4\n",
      "6\n",
      "7\n",
      "0\n",
      "10\n",
      "1\n",
      "3\n",
      "3\n",
      "3\n",
      "[2.97532007 4.25158774 6.21042241 2.0394897  0.07377332 3.90325439\n",
      " 2.91050297 3.10006555 4.47411316 2.36275656 5.58612033 1.60563409\n",
      " 6.76633725 4.60819808 3.06899807 4.36395605 1.7564205  3.53093189\n",
      " 3.45713699 0.48474543]\n"
     ]
    }
   ],
   "source": []
  },
  {
   "cell_type": "code",
   "execution_count": 211,
   "id": "ebcdae96-140e-498b-8198-58e7dc409ff4",
   "metadata": {},
   "outputs": [
    {
     "data": {
      "text/plain": [
       "(2.9753200700812967, 0.9306621133800794, 4.836644296841456)"
      ]
     },
     "execution_count": 211,
     "metadata": {},
     "output_type": "execute_result"
    }
   ],
   "source": [
    "idx = 0\n",
    "means[idx], stds[idx], means[idx]+2*stds[idx]"
   ]
  },
  {
   "cell_type": "code",
   "execution_count": 14,
   "id": "631cf027-ddf8-4125-aa31-1df84bd264d2",
   "metadata": {},
   "outputs": [
    {
     "name": "stdout",
     "output_type": "stream",
     "text": [
      "CPU times: user 2.06 s, sys: 2.8 ms, total: 2.06 s\n",
      "Wall time: 2.41 s\n"
     ]
    }
   ],
   "source": [
    "%%time\n",
    "kmeans = KMeans(n_clusters= 20, tol=1e-8, max_iter= 1000).fit(data_points.values)"
   ]
  },
  {
   "cell_type": "code",
   "execution_count": 18,
   "id": "eb0e627e-bdc7-49bd-927a-1d502e49fa23",
   "metadata": {},
   "outputs": [],
   "source": [
    "labels = pd.Series(kmeans.labels_)"
   ]
  },
  {
   "cell_type": "code",
   "execution_count": 73,
   "id": "8b0bfc88-63c4-4b90-a4cc-2bc059fe8f3e",
   "metadata": {},
   "outputs": [
    {
     "data": {
      "text/plain": [
       "4.059673003715914"
      ]
     },
     "execution_count": 73,
     "metadata": {},
     "output_type": "execute_result"
    }
   ],
   "source": [
    "data_points[ kmeans.labels_ == 6 ].mean().mean()"
   ]
  },
  {
   "cell_type": "code",
   "execution_count": 40,
   "id": "7081d9d1-b401-45f5-995b-b11c0ef1f099",
   "metadata": {},
   "outputs": [
    {
     "data": {
      "text/plain": [
       "3.9568046329150937"
      ]
     },
     "execution_count": 40,
     "metadata": {},
     "output_type": "execute_result"
    }
   ],
   "source": [
    "stats.gmean(data_points[ kmeans.labels_ == 6 ].mean())"
   ]
  },
  {
   "cell_type": "code",
   "execution_count": 46,
   "id": "1e318939-306b-40f0-a67c-7f52f337ddca",
   "metadata": {},
   "outputs": [
    {
     "data": {
      "text/plain": [
       "0.922530908616717"
      ]
     },
     "execution_count": 46,
     "metadata": {},
     "output_type": "execute_result"
    }
   ],
   "source": [
    "stats.gmean(data_points[ kmeans.labels_ == 6 ].std())"
   ]
  }
 ],
 "metadata": {
  "kernelspec": {
   "display_name": "Python 3 (ipykernel)",
   "language": "python",
   "name": "python3"
  },
  "language_info": {
   "codemirror_mode": {
    "name": "ipython",
    "version": 3
   },
   "file_extension": ".py",
   "mimetype": "text/x-python",
   "name": "python",
   "nbconvert_exporter": "python",
   "pygments_lexer": "ipython3",
   "version": "3.9.7"
  }
 },
 "nbformat": 4,
 "nbformat_minor": 5
}
