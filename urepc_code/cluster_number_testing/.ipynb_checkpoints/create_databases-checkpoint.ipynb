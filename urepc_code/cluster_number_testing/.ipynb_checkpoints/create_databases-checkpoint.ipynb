{
 "cells": [
  {
   "cell_type": "code",
   "execution_count": 2,
   "id": "738c544b",
   "metadata": {},
   "outputs": [],
   "source": [
    "import pandas as pd\n",
    "import numpy as np"
   ]
  },
  {
   "cell_type": "markdown",
   "id": "8dc98902",
   "metadata": {},
   "source": [
    "# Read the original data and produce datasets accordingly"
   ]
  },
  {
   "cell_type": "code",
   "execution_count": 3,
   "id": "12d2ebee",
   "metadata": {},
   "outputs": [],
   "source": [
    "data1 = pd.read_csv('./data/prad_Liu_FPKM_1.5CPMcutoff.csv')\n",
    "data2 = pd.read_csv('./data/prad_Liu_FPKM_2CPMcutoff.csv')"
   ]
  },
  {
   "cell_type": "code",
   "execution_count": 43,
   "id": "e9e25ca2",
   "metadata": {},
   "outputs": [],
   "source": [
    "new_names = []\n",
    "for df, name  in zip([data1,data2],['1_5_CPMcutoff','2_0_CPMcutoff']):\n",
    "    for col_suffix in ['_1','_2','_3']:\n",
    "        new_name = './data/{}_suffix{}.csv'.format(name,col_suffix)\n",
    "        log_new_name = './data/{}_suffix{}_log.csv'.format(name,col_suffix)\n",
    "        new_names.append(new_name)\n",
    "        new_names.append(log_new_name)\n",
    "        foo = df[\n",
    "            df.columns[\n",
    "                pd.Series(df.columns).str.endswith(col_suffix) |\n",
    "                pd.Series(df.columns).str.contains('gene')\n",
    "            ]\n",
    "        ].copy()        \n",
    "        foo.to_csv(new_name, index = False)\n",
    "        for col in foo.columns[1:] :\n",
    "            foo[col] = np.log(foo[col]+1)\n",
    "        foo.to_csv(log_new_name, index = False)"
   ]
  },
  {
   "cell_type": "code",
   "execution_count": 44,
   "id": "fc4565e6",
   "metadata": {},
   "outputs": [],
   "source": [
    "with open(\"./data/new_datasets_names.txt\", \"w\") as text_file:\n",
    "    text_file.write(','.join(new_names))\n",
    "    text_file.write('\\n')"
   ]
  }
 ],
 "metadata": {
  "kernelspec": {
   "display_name": "Python 3 (ipykernel)",
   "language": "python",
   "name": "python3"
  },
  "language_info": {
   "codemirror_mode": {
    "name": "ipython",
    "version": 3
   },
   "file_extension": ".py",
   "mimetype": "text/x-python",
   "name": "python",
   "nbconvert_exporter": "python",
   "pygments_lexer": "ipython3",
   "version": "3.9.6"
  }
 },
 "nbformat": 4,
 "nbformat_minor": 5
}
