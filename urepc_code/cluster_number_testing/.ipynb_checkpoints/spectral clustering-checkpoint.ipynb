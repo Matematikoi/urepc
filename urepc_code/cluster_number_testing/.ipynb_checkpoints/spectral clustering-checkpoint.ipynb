{
 "cells": [
  {
   "cell_type": "code",
   "execution_count": 1,
   "id": "f3021a3c",
   "metadata": {},
   "outputs": [],
   "source": [
    "import pandas as pd\n",
    "from sklearn.cluster import SpectralClustering\n",
    "import numpy as np\n",
    "from sklearn.manifold import TSNE\n",
    "from sklearn.decomposition import PCA\n",
    "import seaborn as sns\n",
    "import matplotlib.pyplot as plt"
   ]
  },
  {
   "cell_type": "markdown",
   "id": "db414b9c",
   "metadata": {},
   "source": [
    "# Read the data and applied clustering techniques"
   ]
  },
  {
   "cell_type": "code",
   "execution_count": 2,
   "id": "910a2fda",
   "metadata": {},
   "outputs": [
    {
     "data": {
      "text/html": [
       "<div>\n",
       "<style scoped>\n",
       "    .dataframe tbody tr th:only-of-type {\n",
       "        vertical-align: middle;\n",
       "    }\n",
       "\n",
       "    .dataframe tbody tr th {\n",
       "        vertical-align: top;\n",
       "    }\n",
       "\n",
       "    .dataframe thead th {\n",
       "        text-align: right;\n",
       "    }\n",
       "</style>\n",
       "<table border=\"1\" class=\"dataframe\">\n",
       "  <thead>\n",
       "    <tr style=\"text-align: right;\">\n",
       "      <th></th>\n",
       "      <th>C42_1</th>\n",
       "      <th>C42B_1</th>\n",
       "      <th>LNCAP_1</th>\n",
       "      <th>MR49F_1</th>\n",
       "    </tr>\n",
       "    <tr>\n",
       "      <th>gene</th>\n",
       "      <th></th>\n",
       "      <th></th>\n",
       "      <th></th>\n",
       "      <th></th>\n",
       "    </tr>\n",
       "  </thead>\n",
       "  <tbody>\n",
       "    <tr>\n",
       "      <th>ENSG00000000003</th>\n",
       "      <td>2.020308</td>\n",
       "      <td>5.802458</td>\n",
       "      <td>3.463763</td>\n",
       "      <td>3.090618</td>\n",
       "    </tr>\n",
       "    <tr>\n",
       "      <th>ENSG00000000419</th>\n",
       "      <td>4.223350</td>\n",
       "      <td>7.149923</td>\n",
       "      <td>5.323355</td>\n",
       "      <td>2.755359</td>\n",
       "    </tr>\n",
       "    <tr>\n",
       "      <th>ENSG00000000457</th>\n",
       "      <td>2.869919</td>\n",
       "      <td>1.596058</td>\n",
       "      <td>3.677716</td>\n",
       "      <td>4.178899</td>\n",
       "    </tr>\n",
       "    <tr>\n",
       "      <th>ENSG00000000460</th>\n",
       "      <td>1.751904</td>\n",
       "      <td>3.421740</td>\n",
       "      <td>3.052585</td>\n",
       "      <td>3.070865</td>\n",
       "    </tr>\n",
       "    <tr>\n",
       "      <th>ENSG00000001036</th>\n",
       "      <td>3.481197</td>\n",
       "      <td>5.683603</td>\n",
       "      <td>5.241517</td>\n",
       "      <td>4.872132</td>\n",
       "    </tr>\n",
       "  </tbody>\n",
       "</table>\n",
       "</div>"
      ],
      "text/plain": [
       "                    C42_1    C42B_1   LNCAP_1   MR49F_1\n",
       "gene                                                   \n",
       "ENSG00000000003  2.020308  5.802458  3.463763  3.090618\n",
       "ENSG00000000419  4.223350  7.149923  5.323355  2.755359\n",
       "ENSG00000000457  2.869919  1.596058  3.677716  4.178899\n",
       "ENSG00000000460  1.751904  3.421740  3.052585  3.070865\n",
       "ENSG00000001036  3.481197  5.683603  5.241517  4.872132"
      ]
     },
     "execution_count": 2,
     "metadata": {},
     "output_type": "execute_result"
    }
   ],
   "source": [
    "data = pd.read_csv('./data/1_5_CPMcutoff_suffix_1_log.csv', index_col=0)\n",
    "data.head()"
   ]
  },
  {
   "cell_type": "code",
   "execution_count": null,
   "id": "3db747d8",
   "metadata": {},
   "outputs": [],
   "source": [
    "%%time\n",
    "clustering = SpectralClustering(n_clusters=9,\n",
    "        assign_labels='discretize',\n",
    "        random_state=0).fit(data.values)"
   ]
  },
  {
   "cell_type": "code",
   "execution_count": null,
   "id": "2689dcd9",
   "metadata": {},
   "outputs": [],
   "source": [
    "posteriors = pd.read_csv(\"./results/posteriors_1_5_CPMcutoff_suffix_1_log_it_1000_npEM.csv\",index_col=0)\n",
    "clusters_np = np.argmax(posteriors.values,axis = 1)\n",
    "clusters_spect = clustering.labels_\n",
    "X = data.values\n",
    "X_embedded = TSNE(n_components=2).fit_transform(X)"
   ]
  },
  {
   "cell_type": "markdown",
   "id": "2b413e29",
   "metadata": {},
   "source": [
    "# Visualization comparing ```npEM``` with ```SpectralClustering```"
   ]
  },
  {
   "cell_type": "code",
   "execution_count": null,
   "id": "bc0fa327",
   "metadata": {},
   "outputs": [],
   "source": [
    "df = pd.DataFrame({\n",
    "    'x':X_embedded[:,0],\n",
    "    'y':X_embedded[:,1], \n",
    "    'cluster_np':clusters_np,\n",
    "    'cluster_spect':clusters_spect\n",
    "})\n",
    "fig, axs = plt.subplots(ncols=2)\n",
    "g = sns.scatterplot(data=df ,x='x',y='y' ,hue=\"cluster_spect\",alpha = 0.7,palette='bright',ax=axs[0]);\n",
    "g.figure.set_size_inches(20,15);\n",
    "g.set_title(\"Visualization using t-SNE (spectral)\",fontsize=25);\n",
    "g2 = sns.scatterplot(data=df ,x='x',y='y' ,hue=\"cluster_np\",alpha = 0.7,palette='bright',ax=axs[1]);\n",
    "g2.figure.set_size_inches(20,15);\n",
    "g2.set_title(\"Visualization using t-SNE (npEM)\",fontsize=25);"
   ]
  },
  {
   "cell_type": "code",
   "execution_count": null,
   "id": "8831e39e",
   "metadata": {},
   "outputs": [],
   "source": [
    "X_pca = PCA(n_components=2).fit_transform(X)\n",
    "df2 = pd.DataFrame({\n",
    "    'x':X_pca[:,0],\n",
    "    'y':X_pca[:,1], \n",
    "    'cluster_np':clusters_np,\n",
    "    'cluster_spect':clusters_spect\n",
    "})\n",
    "fig, axs = plt.subplots(ncols=2)\n",
    "g = sns.scatterplot(data=df2 ,x='x',y='y' ,hue=\"cluster_spect\",alpha = 0.7,palette='bright',ax=axs[0]);\n",
    "g.figure.set_size_inches(20,15);\n",
    "g.set_title(\"Visualization using PCA (spectral)\",fontsize=25);\n",
    "g2 = sns.scatterplot(data=df2 ,x='x',y='y' ,hue=\"cluster_np\",alpha = 0.7,palette='bright',ax=axs[1]);\n",
    "g2.figure.set_size_inches(20,15);\n",
    "g2.set_title(\"Visualization using PCA (npEM)\",fontsize=25);"
   ]
  },
  {
   "cell_type": "markdown",
   "id": "599af876",
   "metadata": {},
   "source": [
    "# Proportional size of clusters in each algorithm"
   ]
  },
  {
   "cell_type": "code",
   "execution_count": null,
   "id": "92680f2b",
   "metadata": {},
   "outputs": [],
   "source": [
    "# Proportion in npEM\n",
    "df.cluster_np.value_counts(normalize=True)"
   ]
  },
  {
   "cell_type": "code",
   "execution_count": null,
   "id": "969ef0d0",
   "metadata": {},
   "outputs": [],
   "source": [
    "# Proportion in Spectral Clustering\n",
    "df.cluster_spect.value_counts(normalize=True)"
   ]
  }
 ],
 "metadata": {
  "kernelspec": {
   "display_name": "Python 3 (ipykernel)",
   "language": "python",
   "name": "python3"
  },
  "language_info": {
   "codemirror_mode": {
    "name": "ipython",
    "version": 3
   },
   "file_extension": ".py",
   "mimetype": "text/x-python",
   "name": "python",
   "nbconvert_exporter": "python",
   "pygments_lexer": "ipython3",
   "version": "3.9.6"
  }
 },
 "nbformat": 4,
 "nbformat_minor": 5
}
