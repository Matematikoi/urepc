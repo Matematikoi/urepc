{
 "cells": [
  {
   "cell_type": "code",
   "execution_count": 1,
   "id": "85384271",
   "metadata": {},
   "outputs": [],
   "source": [
    "import pandas as pd \n",
    "from pandas_profiling import ProfileReport"
   ]
  },
  {
   "cell_type": "code",
   "execution_count": 6,
   "id": "747464aa",
   "metadata": {},
   "outputs": [
    {
     "data": {
      "application/vnd.jupyter.widget-view+json": {
       "model_id": "f594b7b5eb23432b8f58a2fe3c63eaf6",
       "version_major": 2,
       "version_minor": 0
      },
      "text/plain": [
       "Summarize dataset:   0%|          | 0/18 [00:00<?, ?it/s]"
      ]
     },
     "metadata": {},
     "output_type": "display_data"
    },
    {
     "data": {
      "application/vnd.jupyter.widget-view+json": {
       "model_id": "9f639214f9834a59815d7b8b07f2267b",
       "version_major": 2,
       "version_minor": 0
      },
      "text/plain": [
       "Generate report structure:   0%|          | 0/1 [00:00<?, ?it/s]"
      ]
     },
     "metadata": {},
     "output_type": "display_data"
    },
    {
     "data": {
      "application/vnd.jupyter.widget-view+json": {
       "model_id": "ed06d764b7084e16b689231be575f78f",
       "version_major": 2,
       "version_minor": 0
      },
      "text/plain": [
       "Render HTML:   0%|          | 0/1 [00:00<?, ?it/s]"
      ]
     },
     "metadata": {},
     "output_type": "display_data"
    },
    {
     "data": {
      "application/vnd.jupyter.widget-view+json": {
       "model_id": "ca5830837c054594ace73df796f25b75",
       "version_major": 2,
       "version_minor": 0
      },
      "text/plain": [
       "Export report to file:   0%|          | 0/1 [00:00<?, ?it/s]"
      ]
     },
     "metadata": {},
     "output_type": "display_data"
    }
   ],
   "source": [
    "data = pd.read_csv('./data/1_5_CPMcutoff_suffix_1_log.csv', index_col=0)\n",
    "profile = ProfileReport(data, title=\"Report on cropped data\")\n",
    "profile.to_file(output_file=\"./results/pandas_profiling_1_5_log_suffix_1.html\")"
   ]
  },
  {
   "cell_type": "code",
   "execution_count": 7,
   "id": "a8cfd89b",
   "metadata": {},
   "outputs": [
    {
     "data": {
      "text/html": [
       "<div>\n",
       "<style scoped>\n",
       "    .dataframe tbody tr th:only-of-type {\n",
       "        vertical-align: middle;\n",
       "    }\n",
       "\n",
       "    .dataframe tbody tr th {\n",
       "        vertical-align: top;\n",
       "    }\n",
       "\n",
       "    .dataframe thead th {\n",
       "        text-align: right;\n",
       "    }\n",
       "</style>\n",
       "<table border=\"1\" class=\"dataframe\">\n",
       "  <thead>\n",
       "    <tr style=\"text-align: right;\">\n",
       "      <th></th>\n",
       "      <th>C42_1</th>\n",
       "      <th>C42B_1</th>\n",
       "      <th>LNCAP_1</th>\n",
       "      <th>MR49F_1</th>\n",
       "    </tr>\n",
       "    <tr>\n",
       "      <th>gene</th>\n",
       "      <th></th>\n",
       "      <th></th>\n",
       "      <th></th>\n",
       "      <th></th>\n",
       "    </tr>\n",
       "  </thead>\n",
       "  <tbody>\n",
       "    <tr>\n",
       "      <th>ENSG00000000003</th>\n",
       "      <td>2.020308</td>\n",
       "      <td>5.802458</td>\n",
       "      <td>3.463763</td>\n",
       "      <td>3.090618</td>\n",
       "    </tr>\n",
       "    <tr>\n",
       "      <th>ENSG00000000419</th>\n",
       "      <td>4.223350</td>\n",
       "      <td>7.149923</td>\n",
       "      <td>5.323355</td>\n",
       "      <td>2.755359</td>\n",
       "    </tr>\n",
       "    <tr>\n",
       "      <th>ENSG00000000457</th>\n",
       "      <td>2.869919</td>\n",
       "      <td>1.596058</td>\n",
       "      <td>3.677716</td>\n",
       "      <td>4.178899</td>\n",
       "    </tr>\n",
       "    <tr>\n",
       "      <th>ENSG00000000460</th>\n",
       "      <td>1.751904</td>\n",
       "      <td>3.421740</td>\n",
       "      <td>3.052585</td>\n",
       "      <td>3.070865</td>\n",
       "    </tr>\n",
       "    <tr>\n",
       "      <th>ENSG00000001036</th>\n",
       "      <td>3.481197</td>\n",
       "      <td>5.683603</td>\n",
       "      <td>5.241517</td>\n",
       "      <td>4.872132</td>\n",
       "    </tr>\n",
       "    <tr>\n",
       "      <th>...</th>\n",
       "      <td>...</td>\n",
       "      <td>...</td>\n",
       "      <td>...</td>\n",
       "      <td>...</td>\n",
       "    </tr>\n",
       "    <tr>\n",
       "      <th>ENSG00000283577</th>\n",
       "      <td>0.000000</td>\n",
       "      <td>0.668517</td>\n",
       "      <td>0.000000</td>\n",
       "      <td>0.089811</td>\n",
       "    </tr>\n",
       "    <tr>\n",
       "      <th>ENSG00000283633</th>\n",
       "      <td>0.000000</td>\n",
       "      <td>0.378588</td>\n",
       "      <td>0.000000</td>\n",
       "      <td>0.000000</td>\n",
       "    </tr>\n",
       "    <tr>\n",
       "      <th>ENSG00000283667</th>\n",
       "      <td>0.080286</td>\n",
       "      <td>0.202083</td>\n",
       "      <td>2.258987</td>\n",
       "      <td>1.889044</td>\n",
       "    </tr>\n",
       "    <tr>\n",
       "      <th>ENSG00000283674</th>\n",
       "      <td>0.503064</td>\n",
       "      <td>1.205395</td>\n",
       "      <td>2.181762</td>\n",
       "      <td>1.286498</td>\n",
       "    </tr>\n",
       "    <tr>\n",
       "      <th>ENSG00000283689</th>\n",
       "      <td>0.110153</td>\n",
       "      <td>0.291591</td>\n",
       "      <td>1.223937</td>\n",
       "      <td>1.135927</td>\n",
       "    </tr>\n",
       "  </tbody>\n",
       "</table>\n",
       "<p>16247 rows × 4 columns</p>\n",
       "</div>"
      ],
      "text/plain": [
       "                    C42_1    C42B_1   LNCAP_1   MR49F_1\n",
       "gene                                                   \n",
       "ENSG00000000003  2.020308  5.802458  3.463763  3.090618\n",
       "ENSG00000000419  4.223350  7.149923  5.323355  2.755359\n",
       "ENSG00000000457  2.869919  1.596058  3.677716  4.178899\n",
       "ENSG00000000460  1.751904  3.421740  3.052585  3.070865\n",
       "ENSG00000001036  3.481197  5.683603  5.241517  4.872132\n",
       "...                   ...       ...       ...       ...\n",
       "ENSG00000283577  0.000000  0.668517  0.000000  0.089811\n",
       "ENSG00000283633  0.000000  0.378588  0.000000  0.000000\n",
       "ENSG00000283667  0.080286  0.202083  2.258987  1.889044\n",
       "ENSG00000283674  0.503064  1.205395  2.181762  1.286498\n",
       "ENSG00000283689  0.110153  0.291591  1.223937  1.135927\n",
       "\n",
       "[16247 rows x 4 columns]"
      ]
     },
     "execution_count": 7,
     "metadata": {},
     "output_type": "execute_result"
    }
   ],
   "source": [
    "data"
   ]
  }
 ],
 "metadata": {
  "kernelspec": {
   "display_name": "Python 3 (ipykernel)",
   "language": "python",
   "name": "python3"
  },
  "language_info": {
   "codemirror_mode": {
    "name": "ipython",
    "version": 3
   },
   "file_extension": ".py",
   "mimetype": "text/x-python",
   "name": "python",
   "nbconvert_exporter": "python",
   "pygments_lexer": "ipython3",
   "version": "3.9.6"
  }
 },
 "nbformat": 4,
 "nbformat_minor": 5
}
