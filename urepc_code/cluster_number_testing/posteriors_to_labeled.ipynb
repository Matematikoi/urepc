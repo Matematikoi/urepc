{
 "cells": [
  {
   "cell_type": "code",
   "execution_count": 57,
   "id": "847e6829",
   "metadata": {},
   "outputs": [],
   "source": [
    "import pandas as pd\n",
    "import numpy as np\n",
    "import seaborn as sns\n",
    "import matplotlib.pyplot as plt\n",
    "import matplotlib.patches as patches"
   ]
  },
  {
   "cell_type": "code",
   "execution_count": 15,
   "id": "bbe6ce18",
   "metadata": {},
   "outputs": [],
   "source": [
    "posteriors_5_npEM = pd.read_csv('./results/np_posteriors/npEM_k_5_1_5_CPMcutoff_suffix_1_log_cero_replacement_posteriors.csv', index_col = 0)\n",
    "posteriors_5_npMSL = pd.read_csv('./results/np_posteriors/npMSL_k_5_1_5_CPMcutoff_suffix_1_log_cero_replacement_posteriors.csv', index_col = 0)\n",
    "posteriors_8_npEM = pd.read_csv('./results/np_posteriors/npEM_k_8_1_5_CPMcutoff_suffix_1_log_cero_replacement_posteriors.csv', index_col = 0)\n",
    "posteriors_8_npMSL = pd.read_csv('./results/np_posteriors/npMSL_k_8_1_5_CPMcutoff_suffix_1_log_cero_replacement_posteriors.csv', index_col = 0)\n",
    "posteriors_9_npMSL = pd.read_csv('./results/np_posteriors/npMSL_k_9_1_5_CPMcutoff_suffix_1_log_cero_replacement_posteriors.csv', index_col = 0)\n",
    "posteriors_9_npEM = pd.read_csv('./results/np_posteriors/npEM_k_9_1_5_CPMcutoff_suffix_1_log_cero_replacement_posteriors.csv', index_col = 0)\n",
    "posteriors_10_npMSL = pd.read_csv('./results/np_posteriors/npMSL_k_10_1_5_CPMcutoff_suffix_1_log_cero_replacement_posteriors.csv', index_col = 0)\n",
    "posteriors_10_npEM = pd.read_csv('./results/np_posteriors/npEM_k_10_1_5_CPMcutoff_suffix_1_log_cero_replacement_posteriors.csv', index_col = 0)"
   ]
  },
  {
   "cell_type": "code",
   "execution_count": 16,
   "id": "f23737fb",
   "metadata": {},
   "outputs": [],
   "source": [
    "data_points = pd.read_csv('./data/1_5_CPMcutoff_suffix_1_log_cero_replacement.csv', index_col = 0)"
   ]
  },
  {
   "cell_type": "code",
   "execution_count": 17,
   "id": "046d5853",
   "metadata": {},
   "outputs": [],
   "source": [
    "names = ['npEM_5','npMSL_5','npEM_8','npMSL_8','npEM_9','npMSL_9','npMSL_10','npEM_10']\n",
    "datasets = [posteriors_5_npEM,posteriors_5_npMSL,posteriors_8_npEM,posteriors_8_npMSL, posteriors_9_npEM, posteriors_9_npMSL,posteriors_10_npMSL, posteriors_10_npEM]"
   ]
  },
  {
   "cell_type": "code",
   "execution_count": 18,
   "id": "b8afee1f",
   "metadata": {},
   "outputs": [
    {
     "data": {
      "text/html": [
       "<div>\n",
       "<style scoped>\n",
       "    .dataframe tbody tr th:only-of-type {\n",
       "        vertical-align: middle;\n",
       "    }\n",
       "\n",
       "    .dataframe tbody tr th {\n",
       "        vertical-align: top;\n",
       "    }\n",
       "\n",
       "    .dataframe thead th {\n",
       "        text-align: right;\n",
       "    }\n",
       "</style>\n",
       "<table border=\"1\" class=\"dataframe\">\n",
       "  <thead>\n",
       "    <tr style=\"text-align: right;\">\n",
       "      <th></th>\n",
       "      <th>npEM_5</th>\n",
       "      <th>npMSL_5</th>\n",
       "      <th>npEM_8</th>\n",
       "      <th>npMSL_8</th>\n",
       "      <th>npEM_9</th>\n",
       "      <th>npMSL_9</th>\n",
       "      <th>npMSL_10</th>\n",
       "      <th>npEM_10</th>\n",
       "    </tr>\n",
       "    <tr>\n",
       "      <th>gene</th>\n",
       "      <th></th>\n",
       "      <th></th>\n",
       "      <th></th>\n",
       "      <th></th>\n",
       "      <th></th>\n",
       "      <th></th>\n",
       "      <th></th>\n",
       "      <th></th>\n",
       "    </tr>\n",
       "  </thead>\n",
       "  <tbody>\n",
       "    <tr>\n",
       "      <th>ENSG00000000003</th>\n",
       "      <td>1</td>\n",
       "      <td>4</td>\n",
       "      <td>5</td>\n",
       "      <td>3</td>\n",
       "      <td>7</td>\n",
       "      <td>6</td>\n",
       "      <td>1</td>\n",
       "      <td>0</td>\n",
       "    </tr>\n",
       "    <tr>\n",
       "      <th>ENSG00000000419</th>\n",
       "      <td>1</td>\n",
       "      <td>0</td>\n",
       "      <td>6</td>\n",
       "      <td>4</td>\n",
       "      <td>8</td>\n",
       "      <td>5</td>\n",
       "      <td>9</td>\n",
       "      <td>7</td>\n",
       "    </tr>\n",
       "    <tr>\n",
       "      <th>ENSG00000000457</th>\n",
       "      <td>1</td>\n",
       "      <td>4</td>\n",
       "      <td>5</td>\n",
       "      <td>3</td>\n",
       "      <td>0</td>\n",
       "      <td>6</td>\n",
       "      <td>1</td>\n",
       "      <td>0</td>\n",
       "    </tr>\n",
       "    <tr>\n",
       "      <th>ENSG00000000460</th>\n",
       "      <td>3</td>\n",
       "      <td>4</td>\n",
       "      <td>7</td>\n",
       "      <td>3</td>\n",
       "      <td>7</td>\n",
       "      <td>6</td>\n",
       "      <td>4</td>\n",
       "      <td>9</td>\n",
       "    </tr>\n",
       "    <tr>\n",
       "      <th>ENSG00000001036</th>\n",
       "      <td>1</td>\n",
       "      <td>0</td>\n",
       "      <td>6</td>\n",
       "      <td>4</td>\n",
       "      <td>3</td>\n",
       "      <td>5</td>\n",
       "      <td>9</td>\n",
       "      <td>7</td>\n",
       "    </tr>\n",
       "  </tbody>\n",
       "</table>\n",
       "</div>"
      ],
      "text/plain": [
       "                 npEM_5  npMSL_5  npEM_8  npMSL_8  npEM_9  npMSL_9  npMSL_10  \\\n",
       "gene                                                                           \n",
       "ENSG00000000003       1        4       5        3       7        6         1   \n",
       "ENSG00000000419       1        0       6        4       8        5         9   \n",
       "ENSG00000000457       1        4       5        3       0        6         1   \n",
       "ENSG00000000460       3        4       7        3       7        6         4   \n",
       "ENSG00000001036       1        0       6        4       3        5         9   \n",
       "\n",
       "                 npEM_10  \n",
       "gene                      \n",
       "ENSG00000000003        0  \n",
       "ENSG00000000419        7  \n",
       "ENSG00000000457        0  \n",
       "ENSG00000000460        9  \n",
       "ENSG00000001036        7  "
      ]
     },
     "execution_count": 18,
     "metadata": {},
     "output_type": "execute_result"
    }
   ],
   "source": [
    "df = pd.DataFrame({})\n",
    "for name, data in zip (names,datasets):\n",
    "    df[name] = np.argmax(data.values, axis = 1)\n",
    "df.index = data_points.index\n",
    "df.head()"
   ]
  },
  {
   "cell_type": "code",
   "execution_count": 19,
   "id": "01f54638",
   "metadata": {},
   "outputs": [],
   "source": [
    "df.to_csv('./results/np_labels/grouped_labels.csv')"
   ]
  },
  {
   "cell_type": "code",
   "execution_count": 20,
   "id": "70985397",
   "metadata": {},
   "outputs": [],
   "source": [
    "for col in df.columns:\n",
    "    df[[col]].to_csv('./results/np_labels/labels_{}.csv'.format(col))"
   ]
  },
  {
   "cell_type": "code",
   "execution_count": 21,
   "id": "282286bf",
   "metadata": {},
   "outputs": [
    {
     "data": {
      "text/html": [
       "<div>\n",
       "<style scoped>\n",
       "    .dataframe tbody tr th:only-of-type {\n",
       "        vertical-align: middle;\n",
       "    }\n",
       "\n",
       "    .dataframe tbody tr th {\n",
       "        vertical-align: top;\n",
       "    }\n",
       "\n",
       "    .dataframe thead th {\n",
       "        text-align: right;\n",
       "    }\n",
       "</style>\n",
       "<table border=\"1\" class=\"dataframe\">\n",
       "  <thead>\n",
       "    <tr style=\"text-align: right;\">\n",
       "      <th></th>\n",
       "      <th>npEM_5</th>\n",
       "      <th>npMSL_5</th>\n",
       "      <th>npEM_8</th>\n",
       "      <th>npMSL_8</th>\n",
       "      <th>npEM_9</th>\n",
       "      <th>npMSL_9</th>\n",
       "      <th>npMSL_10</th>\n",
       "      <th>npEM_10</th>\n",
       "    </tr>\n",
       "  </thead>\n",
       "  <tbody>\n",
       "    <tr>\n",
       "      <th>count</th>\n",
       "      <td>16247</td>\n",
       "      <td>16247</td>\n",
       "      <td>16247</td>\n",
       "      <td>16247</td>\n",
       "      <td>16247</td>\n",
       "      <td>16247</td>\n",
       "      <td>16247</td>\n",
       "      <td>16247</td>\n",
       "    </tr>\n",
       "    <tr>\n",
       "      <th>unique</th>\n",
       "      <td>5</td>\n",
       "      <td>5</td>\n",
       "      <td>8</td>\n",
       "      <td>8</td>\n",
       "      <td>9</td>\n",
       "      <td>9</td>\n",
       "      <td>9</td>\n",
       "      <td>10</td>\n",
       "    </tr>\n",
       "    <tr>\n",
       "      <th>top</th>\n",
       "      <td>1</td>\n",
       "      <td>4</td>\n",
       "      <td>5</td>\n",
       "      <td>3</td>\n",
       "      <td>3</td>\n",
       "      <td>6</td>\n",
       "      <td>1</td>\n",
       "      <td>0</td>\n",
       "    </tr>\n",
       "    <tr>\n",
       "      <th>freq</th>\n",
       "      <td>5930</td>\n",
       "      <td>5117</td>\n",
       "      <td>4653</td>\n",
       "      <td>4698</td>\n",
       "      <td>4332</td>\n",
       "      <td>4734</td>\n",
       "      <td>4841</td>\n",
       "      <td>4058</td>\n",
       "    </tr>\n",
       "  </tbody>\n",
       "</table>\n",
       "</div>"
      ],
      "text/plain": [
       "       npEM_5 npMSL_5 npEM_8 npMSL_8 npEM_9 npMSL_9 npMSL_10 npEM_10\n",
       "count   16247   16247  16247   16247  16247   16247    16247   16247\n",
       "unique      5       5      8       8      9       9        9      10\n",
       "top         1       4      5       3      3       6        1       0\n",
       "freq     5930    5117   4653    4698   4332    4734     4841    4058"
      ]
     },
     "execution_count": 21,
     "metadata": {},
     "output_type": "execute_result"
    }
   ],
   "source": [
    "df.astype(str).describe(include='all')"
   ]
  },
  {
   "cell_type": "code",
   "execution_count": 107,
   "id": "7982bf3f-c145-4610-97e5-1a2d49963e1f",
   "metadata": {},
   "outputs": [
    {
     "data": {
      "image/png": "[encoded data removed]",
      "text/plain": [
       "<Figure size 432x288 with 1 Axes>"
      ]
     },
     "metadata": {
      "needs_background": "light"
     },
     "output_type": "display_data"
    }
   ],
   "source": [
    "def change_width(ax, new_value) :\n",
    "    cnt = 0\n",
    "    for patch in ax.patches :\n",
    "        current_width = patch.get_width()\n",
    "        patch.set_width(new_value[cnt] * len(new_value))\n",
    "        patch.set_x((np.cumsum(new_value)[cnt]-new_value[cnt])*len(new_value))\n",
    "        cnt = (cnt+1) % len(new_value)\n",
    "            \n",
    "def lambda_plotting(data_points, posteriors = None, labels = None,ax = None):    \n",
    "    if posteriors is None and labels is None :\n",
    "        raise Exception('posteriors and labels can\\'t be both None!') \n",
    "    if ax is None :\n",
    "        raise Exception('ax can not be null')\n",
    "    if labels is None :\n",
    "        labels = pd.DataFrame(pd.Series(np.argmax(posteriors.values, axis=1)))\n",
    "    \n",
    "    \n",
    "    data_points_percentage = data_points.copy()\n",
    "    data_points_percentage['label'] = labels.values\n",
    "    data_percentages = data_points_percentage.groupby('label').sum()\n",
    "\n",
    "    for col in data_percentages:\n",
    "        data_percentages[col] = data_percentages[col] / np.sum(data_percentages[col])\n",
    "    sum_hor = np.sum(data_percentages, axis = 1)\n",
    "    for col in data_percentages:\n",
    "        data_percentages[col] = data_percentages[col] / sum_hor\n",
    "    \n",
    "    data_percentages.iloc[:,:] = np.cumsum(data_percentages.values, axis = 1)\n",
    "    \n",
    "    \n",
    "    val,ori,label = [],[],[]\n",
    "    for col in data_percentages:\n",
    "        val.extend(data_percentages[col].values)\n",
    "        ori.extend([col]*len(data_percentages))\n",
    "        label.extend(list(range(1,len(data_percentages)+1)))\n",
    "    df = pd.DataFrame({'value':val,'origin':ori, 'label': label})\n",
    "    \n",
    "    \n",
    "    \n",
    "    \n",
    "    g1 = sns.barplot(data = df, \n",
    "                y = 'value', \n",
    "                x = 'label', \n",
    "                hue = 'origin', \n",
    "                dodge = False, \n",
    "                hue_order = data_percentages.columns[::-1], \n",
    "                palette = 'viridis',\n",
    "                ax = ax,\n",
    "               );\n",
    "    g2 = sns.barplot(data = df, \n",
    "                y = 'value', \n",
    "                x = 'label', \n",
    "                hue = 'origin', \n",
    "                dodge = False, \n",
    "                hue_order = data_percentages.columns[::-1], \n",
    "                palette = 'viridis',\n",
    "                ax = ax,\n",
    "                linewidth= 2.0,\n",
    "                facecolor=(1,1,1,0),\n",
    "                edgecolor=\".2\"\n",
    "               );\n",
    "    \n",
    "    widths = labels.value_counts(normalize = True).sort_index().values\n",
    "    widths_offset = np.zeros(widths.shape)\n",
    "    widths_offset[:-1] = widths[1:]\n",
    "    change_width(ax = ax, new_value = widths)\n",
    "    ax.set_xticks(((np.cumsum(widths)-widths)+(np.cumsum(widths_offset)-widths_offset))*len(widths)/ 2.0 + (widths[0])*len(widths)/2.0)\n",
    "    ax.set_xticklabels(list(range(1,len(widths)+1)))\n",
    "    #plt.legend(loc='center left', bbox_to_anchor=(1.0, 0.5))\n",
    "    #plt.legend([], [], frameon=False )\n",
    "    #plt.tight_layout()\n",
    "fig, ax = plt.subplots()\n",
    "lambda_plotting(data_points, posteriors=posteriors_10_npEM, ax = ax);\n",
    "ax.set_title('posteriors_10_npEM', fontdict={'fontsize':20});"
   ]
  },
  {
   "cell_type": "code",
   "execution_count": 109,
   "id": "a6243918-6697-41b7-8060-fac249791dff",
   "metadata": {},
   "outputs": [
    {
     "data": {
      "image/png": "[encoded data removed]",
      "text/plain": [
       "<Figure size 1684.8x1190.88 with 4 Axes>"
      ]
     },
     "metadata": {
      "needs_background": "light"
     },
     "output_type": "display_data"
    }
   ],
   "source": [
    "fig, ax = plt.subplots(ncols = 2, nrows = 2)\n",
    "lambda_plotting(data_points, posteriors=posteriors_10_npEM, ax = ax[0,0]);\n",
    "ax[0,0].set_title('posteriors_10_npEM', fontdict={'fontsize':20})\n",
    "lambda_plotting(data_points, posteriors=posteriors_9_npEM, ax = ax[0,1]);\n",
    "ax[0,1].set_title('posteriors_9_npEM', fontdict={'fontsize':20})\n",
    "lambda_plotting(data_points, posteriors=posteriors_10_npMSL, ax = ax[1,0]);\n",
    "ax[1,0].set_title('posteriors_10_npMSL', fontdict={'fontsize':20})\n",
    "lambda_plotting(data_points, posteriors=posteriors_9_npMSL, ax = ax[1,1]);\n",
    "ax[1,1].set_title('posteriors_9_npMSL', fontdict={'fontsize':20})\n",
    "fig.set_size_inches(11.7*2, 8.27*2)\n",
    "ax[1,0].legend([], [] ,frameon=False )\n",
    "ax[1,1].legend([], [] ,frameon=False )\n",
    "ax[0,0].legend([], [] ,frameon=False )\n",
    "ax[0,1].legend([], [] ,frameon=False )\n",
    "fig.savefig('lambda_plots_npEM_npMSL_10_9.png', dpi=300, facecolor='white')"
   ]
  },
  {
   "cell_type": "markdown",
   "id": "e6464c7d-1f98-41f8-8291-acb9d7862f9e",
   "metadata": {},
   "source": [
    "# Calculate ARI between them"
   ]
  },
  {
   "cell_type": "code",
   "execution_count": 43,
   "id": "1be97e0a-ffa6-4fea-b70d-945d54e621b8",
   "metadata": {},
   "outputs": [],
   "source": [
    "from sklearn.metrics.cluster import adjusted_rand_score"
   ]
  },
  {
   "cell_type": "code",
   "execution_count": 56,
   "id": "f94645d2-0c16-4117-8589-4982b256db27",
   "metadata": {},
   "outputs": [
    {
     "name": "stdout",
     "output_type": "stream",
     "text": [
      "ARI npEM 10 - npEM 9 :  0.5417810300472424\n",
      "ARI npMSL 10 - npMSL 9 :  0.7473119748451896\n"
     ]
    }
   ],
   "source": [
    "def get_labels_from_post(x):\n",
    "    return np.argmax(x.values, axis = 1 )\n",
    "print(\"ARI npEM 10 - npEM 9 : \",adjusted_rand_score(\n",
    "    get_labels_from_post(posteriors_9_npEM),\n",
    "    get_labels_from_post(posteriors_10_npEM),\n",
    "))\n",
    "print(\"ARI npMSL 10 - npMSL 9 : \",adjusted_rand_score(\n",
    "    get_labels_from_post(posteriors_9_npMSL),\n",
    "    get_labels_from_post(posteriors_10_npMSL),\n",
    "))"
   ]
  }
 ],
 "metadata": {
  "kernelspec": {
   "display_name": "Python 3 (ipykernel)",
   "language": "python",
   "name": "python3"
  },
  "language_info": {
   "codemirror_mode": {
    "name": "ipython",
    "version": 3
   },
   "file_extension": ".py",
   "mimetype": "text/x-python",
   "name": "python",
   "nbconvert_exporter": "python",
   "pygments_lexer": "ipython3",
   "version": "3.9.7"
  }
 },
 "nbformat": 4,
 "nbformat_minor": 5
}
