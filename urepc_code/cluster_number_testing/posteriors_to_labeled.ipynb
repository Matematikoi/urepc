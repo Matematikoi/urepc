{
 "cells": [
  {
   "cell_type": "code",
   "execution_count": 2,
   "id": "847e6829",
   "metadata": {},
   "outputs": [],
   "source": [
    "import pandas as pd\n",
    "import numpy as np"
   ]
  },
  {
   "cell_type": "code",
   "execution_count": 28,
   "id": "bbe6ce18",
   "metadata": {},
   "outputs": [],
   "source": [
    "posteriors_5_npEM = pd.read_csv('./results/np_posteriors/npEM_k_5_1_5_CPMcutoff_suffix_1_log_cero_replacement_posteriors.csv', index_col = 0)\n",
    "posteriors_5_npMSL = pd.read_csv('./results/np_posteriors/npMSL_k_5_1_5_CPMcutoff_suffix_1_log_cero_replacement_posteriors.csv', index_col = 0)\n",
    "posteriors_8_npEM = pd.read_csv('./results/np_posteriors/npEM_k_8_1_5_CPMcutoff_suffix_1_log_cero_replacement_posteriors.csv', index_col = 0)\n",
    "posteriors_8_npMSL = pd.read_csv('./results/np_posteriors/npMSL_k_8_1_5_CPMcutoff_suffix_1_log_cero_replacement_posteriors.csv', index_col = 0)\n",
    "posteriors_9_npMSL = pd.read_csv('./results/np_posteriors/npMSL_k_9_1_5_CPMcutoff_suffix_1_log_cero_replacement_posteriors.csv', index_col = 0)\n",
    "posteriors_9_npEM = pd.read_csv('./results/np_posteriors/npEM_k_9_1_5_CPMcutoff_suffix_1_log_cero_replacement_posteriors.csv', index_col = 0)\n",
    "posteriors_10_npMSL = pd.read_csv('./results/np_posteriors/npMSL_k_10_1_5_CPMcutoff_suffix_1_log_cero_replacement_posteriors.csv', index_col = 0)\n",
    "posteriors_10_npEM = pd.read_csv('./results/np_posteriors/npEM_k_10_1_5_CPMcutoff_suffix_1_log_cero_replacement_posteriors.csv', index_col = 0)"
   ]
  },
  {
   "cell_type": "code",
   "execution_count": 29,
   "id": "f23737fb",
   "metadata": {},
   "outputs": [],
   "source": [
    "data_points = pd.read_csv('./data/1_5_CPMcutoff_suffix_1_log_cero_replacement.csv', index_col = 0)"
   ]
  },
  {
   "cell_type": "code",
   "execution_count": 34,
   "id": "046d5853",
   "metadata": {},
   "outputs": [],
   "source": [
    "names = ['npEM_5','npMSL_5','npEM_8','npMSL_8','npEM_9','npMSL_9','npMSL_10','npEM_10']\n",
    "datasets = [posteriors_5_npEM,posteriors_5_npMSL,posteriors_8_npEM,posteriors_8_npMSL, posteriors_9_npEM, posteriors_9_npMSL,posteriors_10_npMSL, posteriors_10_npEM]"
   ]
  },
  {
   "cell_type": "code",
   "execution_count": 35,
   "id": "b8afee1f",
   "metadata": {},
   "outputs": [
    {
     "data": {
      "text/html": [
       "<div>\n",
       "<style scoped>\n",
       "    .dataframe tbody tr th:only-of-type {\n",
       "        vertical-align: middle;\n",
       "    }\n",
       "\n",
       "    .dataframe tbody tr th {\n",
       "        vertical-align: top;\n",
       "    }\n",
       "\n",
       "    .dataframe thead th {\n",
       "        text-align: right;\n",
       "    }\n",
       "</style>\n",
       "<table border=\"1\" class=\"dataframe\">\n",
       "  <thead>\n",
       "    <tr style=\"text-align: right;\">\n",
       "      <th></th>\n",
       "      <th>npEM_5</th>\n",
       "      <th>npMSL_5</th>\n",
       "      <th>npEM_8</th>\n",
       "      <th>npMSL_8</th>\n",
       "      <th>npEM_9</th>\n",
       "      <th>npMSL_9</th>\n",
       "      <th>npMSL_10</th>\n",
       "      <th>npEM_10</th>\n",
       "    </tr>\n",
       "    <tr>\n",
       "      <th>gene</th>\n",
       "      <th></th>\n",
       "      <th></th>\n",
       "      <th></th>\n",
       "      <th></th>\n",
       "      <th></th>\n",
       "      <th></th>\n",
       "      <th></th>\n",
       "      <th></th>\n",
       "    </tr>\n",
       "  </thead>\n",
       "  <tbody>\n",
       "    <tr>\n",
       "      <th>ENSG00000000003</th>\n",
       "      <td>1</td>\n",
       "      <td>4</td>\n",
       "      <td>5</td>\n",
       "      <td>3</td>\n",
       "      <td>7</td>\n",
       "      <td>6</td>\n",
       "      <td>1</td>\n",
       "      <td>0</td>\n",
       "    </tr>\n",
       "    <tr>\n",
       "      <th>ENSG00000000419</th>\n",
       "      <td>1</td>\n",
       "      <td>0</td>\n",
       "      <td>6</td>\n",
       "      <td>4</td>\n",
       "      <td>8</td>\n",
       "      <td>5</td>\n",
       "      <td>9</td>\n",
       "      <td>7</td>\n",
       "    </tr>\n",
       "    <tr>\n",
       "      <th>ENSG00000000457</th>\n",
       "      <td>1</td>\n",
       "      <td>4</td>\n",
       "      <td>5</td>\n",
       "      <td>3</td>\n",
       "      <td>0</td>\n",
       "      <td>6</td>\n",
       "      <td>1</td>\n",
       "      <td>0</td>\n",
       "    </tr>\n",
       "    <tr>\n",
       "      <th>ENSG00000000460</th>\n",
       "      <td>3</td>\n",
       "      <td>4</td>\n",
       "      <td>7</td>\n",
       "      <td>3</td>\n",
       "      <td>7</td>\n",
       "      <td>6</td>\n",
       "      <td>4</td>\n",
       "      <td>9</td>\n",
       "    </tr>\n",
       "    <tr>\n",
       "      <th>ENSG00000001036</th>\n",
       "      <td>1</td>\n",
       "      <td>0</td>\n",
       "      <td>6</td>\n",
       "      <td>4</td>\n",
       "      <td>3</td>\n",
       "      <td>5</td>\n",
       "      <td>9</td>\n",
       "      <td>7</td>\n",
       "    </tr>\n",
       "  </tbody>\n",
       "</table>\n",
       "</div>"
      ],
      "text/plain": [
       "                 npEM_5  npMSL_5  npEM_8  npMSL_8  npEM_9  npMSL_9  npMSL_10  \\\n",
       "gene                                                                           \n",
       "ENSG00000000003       1        4       5        3       7        6         1   \n",
       "ENSG00000000419       1        0       6        4       8        5         9   \n",
       "ENSG00000000457       1        4       5        3       0        6         1   \n",
       "ENSG00000000460       3        4       7        3       7        6         4   \n",
       "ENSG00000001036       1        0       6        4       3        5         9   \n",
       "\n",
       "                 npEM_10  \n",
       "gene                      \n",
       "ENSG00000000003        0  \n",
       "ENSG00000000419        7  \n",
       "ENSG00000000457        0  \n",
       "ENSG00000000460        9  \n",
       "ENSG00000001036        7  "
      ]
     },
     "execution_count": 35,
     "metadata": {},
     "output_type": "execute_result"
    }
   ],
   "source": [
    "df = pd.DataFrame({})\n",
    "for name, data in zip (names,datasets):\n",
    "    df[name] = np.argmax(data.values, axis = 1)\n",
    "df.index = data_points.index\n",
    "df.head()"
   ]
  },
  {
   "cell_type": "code",
   "execution_count": 36,
   "id": "01f54638",
   "metadata": {},
   "outputs": [],
   "source": [
    "df.to_csv('./results/np_labels/grouped_labels.csv')"
   ]
  },
  {
   "cell_type": "code",
   "execution_count": 37,
   "id": "70985397",
   "metadata": {},
   "outputs": [],
   "source": [
    "for col in df.columns:\n",
    "    df[[col]].to_csv('./results/np_labels/labels_{}.csv'.format(col))"
   ]
  },
  {
   "cell_type": "code",
   "execution_count": null,
   "id": "282286bf",
   "metadata": {},
   "outputs": [],
   "source": []
  }
 ],
 "metadata": {
  "kernelspec": {
   "display_name": "Python 3 (ipykernel)",
   "language": "python",
   "name": "python3"
  },
  "language_info": {
   "codemirror_mode": {
    "name": "ipython",
    "version": 3
   },
   "file_extension": ".py",
   "mimetype": "text/x-python",
   "name": "python",
   "nbconvert_exporter": "python",
   "pygments_lexer": "ipython3",
   "version": "3.9.6"
  }
 },
 "nbformat": 4,
 "nbformat_minor": 5
}
