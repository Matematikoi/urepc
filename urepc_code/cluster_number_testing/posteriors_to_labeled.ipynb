{
 "cells": [
  {
   "cell_type": "code",
   "execution_count": 1,
   "id": "8b165ec0-7b3c-4434-beb2-e345ff79117d",
   "metadata": {},
   "outputs": [],
   "source": [
    "import pandas as pd\n",
    "import numpy as np"
   ]
  },
  {
   "cell_type": "code",
   "execution_count": 2,
   "id": "5869d60e-8778-4ca8-b6f6-b637f0692dfa",
   "metadata": {},
   "outputs": [],
   "source": [
    "posteriors_5_npEM = pd.read_csv('./results/np_posteriors/npEM_k_5_1_5_CPMcutoff_suffix_1_log_cero_replacement_posteriors.csv', index_col = 0)\n",
    "posteriors_5_npMSL = pd.read_csv('./results/np_posteriors/npMSL_k_5_1_5_CPMcutoff_suffix_1_log_cero_replacement_posteriors.csv', index_col = 0)\n",
    "posteriors_8_npEM = pd.read_csv('./results/np_posteriors/npEM_k_8_1_5_CPMcutoff_suffix_1_log_cero_replacement_posteriors.csv', index_col = 0)\n",
    "posteriors_8_npMSL = pd.read_csv('./results/np_posteriors/npMSL_k_8_1_5_CPMcutoff_suffix_1_log_cero_replacement_posteriors.csv', index_col = 0)"
   ]
  },
  {
   "cell_type": "code",
   "execution_count": 3,
   "id": "b72064ad-9379-44f5-8632-4f4e076816b9",
   "metadata": {},
   "outputs": [],
   "source": [
    "names = ['npEM_5','npMSL_5','npEM_8','npMSL_8']\n",
    "datasets = [posteriors_5_npEM,posteriors_5_npMSL,posteriors_8_npEM,posteriors_8_npMSL]"
   ]
  },
  {
   "cell_type": "code",
   "execution_count": 14,
   "id": "b17cb6cd-179e-4879-a921-21d57cdca7b5",
   "metadata": {},
   "outputs": [
    {
     "data": {
      "text/html": [
       "<div>\n",
       "<style scoped>\n",
       "    .dataframe tbody tr th:only-of-type {\n",
       "        vertical-align: middle;\n",
       "    }\n",
       "\n",
       "    .dataframe tbody tr th {\n",
       "        vertical-align: top;\n",
       "    }\n",
       "\n",
       "    .dataframe thead th {\n",
       "        text-align: right;\n",
       "    }\n",
       "</style>\n",
       "<table border=\"1\" class=\"dataframe\">\n",
       "  <thead>\n",
       "    <tr style=\"text-align: right;\">\n",
       "      <th></th>\n",
       "      <th>npEM_5</th>\n",
       "      <th>npMSL_5</th>\n",
       "      <th>npEM_8</th>\n",
       "      <th>npMSL_8</th>\n",
       "    </tr>\n",
       "  </thead>\n",
       "  <tbody>\n",
       "    <tr>\n",
       "      <th>0</th>\n",
       "      <td>1</td>\n",
       "      <td>4</td>\n",
       "      <td>5</td>\n",
       "      <td>3</td>\n",
       "    </tr>\n",
       "    <tr>\n",
       "      <th>1</th>\n",
       "      <td>1</td>\n",
       "      <td>0</td>\n",
       "      <td>6</td>\n",
       "      <td>4</td>\n",
       "    </tr>\n",
       "    <tr>\n",
       "      <th>2</th>\n",
       "      <td>1</td>\n",
       "      <td>4</td>\n",
       "      <td>5</td>\n",
       "      <td>3</td>\n",
       "    </tr>\n",
       "    <tr>\n",
       "      <th>3</th>\n",
       "      <td>3</td>\n",
       "      <td>4</td>\n",
       "      <td>7</td>\n",
       "      <td>3</td>\n",
       "    </tr>\n",
       "    <tr>\n",
       "      <th>4</th>\n",
       "      <td>1</td>\n",
       "      <td>0</td>\n",
       "      <td>6</td>\n",
       "      <td>4</td>\n",
       "    </tr>\n",
       "  </tbody>\n",
       "</table>\n",
       "</div>"
      ],
      "text/plain": [
       "   npEM_5  npMSL_5  npEM_8  npMSL_8\n",
       "0       1        4       5        3\n",
       "1       1        0       6        4\n",
       "2       1        4       5        3\n",
       "3       3        4       7        3\n",
       "4       1        0       6        4"
      ]
     },
     "execution_count": 14,
     "metadata": {},
     "output_type": "execute_result"
    }
   ],
   "source": [
    "df = pd.DataFrame({})\n",
    "for name, data in zip (names,datasets):\n",
    "    df[name] = np.argmax(data.values, axis = 1)\n",
    "df.head()"
   ]
  },
  {
   "cell_type": "code",
   "execution_count": 15,
   "id": "a67bf295-1594-4c76-b4c0-ef00db82fb3e",
   "metadata": {},
   "outputs": [],
   "source": [
    "df.to_csv('./results/np_labels/grouped_labels.csv')"
   ]
  }
 ],
 "metadata": {
  "kernelspec": {
   "display_name": "Python 3",
   "language": "python",
   "name": "python3"
  },
  "language_info": {
   "codemirror_mode": {
    "name": "ipython",
    "version": 3
   },
   "file_extension": ".py",
   "mimetype": "text/x-python",
   "name": "python",
   "nbconvert_exporter": "python",
   "pygments_lexer": "ipython3",
   "version": "3.8.8"
  }
 },
 "nbformat": 4,
 "nbformat_minor": 5
}
