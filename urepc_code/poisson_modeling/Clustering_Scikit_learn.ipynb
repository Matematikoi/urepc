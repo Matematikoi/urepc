{
 "cells": [
  {
   "cell_type": "code",
   "execution_count": 1,
   "id": "2bf76941-1a3a-4538-8ed5-a46e1bccd43d",
   "metadata": {},
   "outputs": [],
   "source": [
    "import pandas as pd\n",
    "import numpy as np\n",
    "from sklearn.metrics.cluster import adjusted_rand_score"
   ]
  },
  {
   "cell_type": "markdown",
   "id": "3a41b7ab-76ff-4d0b-9e8f-c62e61c187d1",
   "metadata": {},
   "source": [
    "# Original data and poisson results"
   ]
  },
  {
   "cell_type": "code",
   "execution_count": 2,
   "id": "71ae72bc-a049-494c-bdfc-481616bc8c3d",
   "metadata": {},
   "outputs": [
    {
     "data": {
      "text/html": [
       "<div>\n",
       "<style scoped>\n",
       "    .dataframe tbody tr th:only-of-type {\n",
       "        vertical-align: middle;\n",
       "    }\n",
       "\n",
       "    .dataframe tbody tr th {\n",
       "        vertical-align: top;\n",
       "    }\n",
       "\n",
       "    .dataframe thead th {\n",
       "        text-align: right;\n",
       "    }\n",
       "</style>\n",
       "<table border=\"1\" class=\"dataframe\">\n",
       "  <thead>\n",
       "    <tr style=\"text-align: right;\">\n",
       "      <th></th>\n",
       "      <th>V1</th>\n",
       "      <th>V2</th>\n",
       "      <th>V3</th>\n",
       "      <th>V4</th>\n",
       "      <th>V5</th>\n",
       "      <th>V6</th>\n",
       "      <th>V7</th>\n",
       "      <th>V8</th>\n",
       "      <th>V9</th>\n",
       "      <th>V10</th>\n",
       "      <th>V11</th>\n",
       "      <th>V12</th>\n",
       "    </tr>\n",
       "  </thead>\n",
       "  <tbody>\n",
       "    <tr>\n",
       "      <th>1</th>\n",
       "      <td>2927</td>\n",
       "      <td>1044</td>\n",
       "      <td>2335</td>\n",
       "      <td>3388</td>\n",
       "      <td>4852</td>\n",
       "      <td>11406</td>\n",
       "      <td>15518</td>\n",
       "      <td>12748</td>\n",
       "      <td>9922</td>\n",
       "      <td>8330</td>\n",
       "      <td>3505</td>\n",
       "      <td>7150</td>\n",
       "    </tr>\n",
       "    <tr>\n",
       "      <th>2</th>\n",
       "      <td>1952</td>\n",
       "      <td>2164</td>\n",
       "      <td>8922</td>\n",
       "      <td>9126</td>\n",
       "      <td>9842</td>\n",
       "      <td>12343</td>\n",
       "      <td>21543</td>\n",
       "      <td>15797</td>\n",
       "      <td>10793</td>\n",
       "      <td>8293</td>\n",
       "      <td>3380</td>\n",
       "      <td>7053</td>\n",
       "    </tr>\n",
       "    <tr>\n",
       "      <th>3</th>\n",
       "      <td>2536</td>\n",
       "      <td>1851</td>\n",
       "      <td>5193</td>\n",
       "      <td>4373</td>\n",
       "      <td>4492</td>\n",
       "      <td>6039</td>\n",
       "      <td>7176</td>\n",
       "      <td>3887</td>\n",
       "      <td>2723</td>\n",
       "      <td>1971</td>\n",
       "      <td>973</td>\n",
       "      <td>1937</td>\n",
       "    </tr>\n",
       "    <tr>\n",
       "      <th>4</th>\n",
       "      <td>27665</td>\n",
       "      <td>10160</td>\n",
       "      <td>14679</td>\n",
       "      <td>11232</td>\n",
       "      <td>12541</td>\n",
       "      <td>18152</td>\n",
       "      <td>23555</td>\n",
       "      <td>18284</td>\n",
       "      <td>15177</td>\n",
       "      <td>13343</td>\n",
       "      <td>7562</td>\n",
       "      <td>15900</td>\n",
       "    </tr>\n",
       "    <tr>\n",
       "      <th>5</th>\n",
       "      <td>1729</td>\n",
       "      <td>447</td>\n",
       "      <td>557</td>\n",
       "      <td>283</td>\n",
       "      <td>277</td>\n",
       "      <td>303</td>\n",
       "      <td>394</td>\n",
       "      <td>299</td>\n",
       "      <td>227</td>\n",
       "      <td>240</td>\n",
       "      <td>148</td>\n",
       "      <td>292</td>\n",
       "    </tr>\n",
       "  </tbody>\n",
       "</table>\n",
       "</div>"
      ],
      "text/plain": [
       "      V1     V2     V3     V4     V5     V6     V7     V8     V9    V10   V11  \\\n",
       "1   2927   1044   2335   3388   4852  11406  15518  12748   9922   8330  3505   \n",
       "2   1952   2164   8922   9126   9842  12343  21543  15797  10793   8293  3380   \n",
       "3   2536   1851   5193   4373   4492   6039   7176   3887   2723   1971   973   \n",
       "4  27665  10160  14679  11232  12541  18152  23555  18284  15177  13343  7562   \n",
       "5   1729    447    557    283    277    303    394    299    227    240   148   \n",
       "\n",
       "     V12  \n",
       "1   7150  \n",
       "2   7053  \n",
       "3   1937  \n",
       "4  15900  \n",
       "5    292  "
      ]
     },
     "execution_count": 2,
     "metadata": {},
     "output_type": "execute_result"
    }
   ],
   "source": [
    "data = pd.read_csv('./results/sim_data_1.csv',index_col=0)\n",
    "data_no_zeros = data[np.max(data.values, axis = 1) > 0 ].copy()\n",
    "data.head()"
   ]
  },
  {
   "cell_type": "markdown",
   "id": "07442bc5-998e-44d0-9c29-6404adf95be4",
   "metadata": {},
   "source": [
    "## Make a cero replacement\n",
    "replace with a uniform value, this might help the log ones, and non-poisson algorithms"
   ]
  },
  {
   "cell_type": "code",
   "execution_count": 3,
   "id": "e0b4516c-87cf-4fea-8d4a-300ca907a181",
   "metadata": {},
   "outputs": [
    {
     "name": "stdout",
     "output_type": "stream",
     "text": [
      "Minimum element different than cero in row V1\t: 1\n",
      "Minimum element different than cero in row V2\t: 1\n",
      "Minimum element different than cero in row V3\t: 1\n",
      "Minimum element different than cero in row V4\t: 1\n",
      "Minimum element different than cero in row V5\t: 1\n",
      "Minimum element different than cero in row V6\t: 1\n",
      "Minimum element different than cero in row V7\t: 1\n",
      "Minimum element different than cero in row V8\t: 1\n",
      "Minimum element different than cero in row V9\t: 1\n",
      "Minimum element different than cero in row V10\t: 1\n",
      "Minimum element different than cero in row V11\t: 1\n",
      "Minimum element different than cero in row V12\t: 1\n"
     ]
    }
   ],
   "source": [
    "data_cero_replace = data.copy()\n",
    "for col_number, col_name in enumerate(data.columns):\n",
    "    min_element = 1\n",
    "    print('Minimum element different than cero in row {}\\t: {}'.format(col_name,min_element))\n",
    "    for row in range(len(data_cero_replace)):\n",
    "        if data_cero_replace.iloc[row,col_number] == 0 :\n",
    "            data_cero_replace.iloc[row,col_number] = np.random.uniform(0,min_element)"
   ]
  },
  {
   "cell_type": "code",
   "execution_count": 4,
   "id": "adb07068-0d25-4688-b6ef-cd448caf076b",
   "metadata": {},
   "outputs": [],
   "source": [
    "labels = pd.read_csv('./results/sim_data_1_labels.csv',index_col = 0)\n",
    "labels_no_zeros = labels[np.max(data.values, axis = 1) > 0]"
   ]
  },
  {
   "cell_type": "markdown",
   "id": "5ed2f7d9-0688-4e36-9146-cedda8e98a64",
   "metadata": {},
   "source": [
    "# Save the databases\n",
    "Save them normally and with a log "
   ]
  },
  {
   "cell_type": "code",
   "execution_count": 5,
   "id": "2eb4e399-e910-48b0-aa7d-9b850f808da2",
   "metadata": {},
   "outputs": [],
   "source": [
    "labels.to_csv('./sim_databases/labels_complete.csv', index = False)\n",
    "labels_no_zeros.to_csv('./sim_databases/labels_no_zeros.csv', index = False)\n",
    "data_cero_replace.to_csv('./sim_databases/data_cero_replace.csv', index = False)\n",
    "data.to_csv('./sim_databases/data.csv', index = False)\n",
    "data_no_zeros.to_csv('./sim_databases/data_no_zeros.csv', index = False)"
   ]
  },
  {
   "cell_type": "code",
   "execution_count": 6,
   "id": "6cc0bb45-20f4-4e78-9976-2239967def30",
   "metadata": {},
   "outputs": [],
   "source": [
    "poisson_results = pd.read_csv('./results/sim_data_poisson_clustering_29.csv',index_col=0)"
   ]
  },
  {
   "cell_type": "markdown",
   "id": "34f83da8-9002-46a4-aa74-be0fec12e3c2",
   "metadata": {},
   "source": [
    "# Get ARI results"
   ]
  },
  {
   "cell_type": "code",
   "execution_count": 7,
   "id": "f3a1552a-d44d-4d56-8384-52553811134c",
   "metadata": {},
   "outputs": [],
   "source": [
    "results = pd.DataFrame({'method':[],'ARI':[],'database':[]})\n",
    "results = results.append({\n",
    "    'method':'poisson_mix',\n",
    "    'ARI':adjusted_rand_score(labels_no_zeros.x.values, poisson_results.x.values),\n",
    "    'database':'no_zeros'\n",
    "}, ignore_index = True)"
   ]
  },
  {
   "cell_type": "code",
   "execution_count": 8,
   "id": "31f09ada-c977-45d9-88a0-71da3ec0a842",
   "metadata": {},
   "outputs": [],
   "source": [
    "datasets = [data,data_cero_replace, data_no_zeros, np.log(data+1), np.log(data_cero_replace+1), np.log(data_no_zeros+1)]\n",
    "datasets_names = ['complete','cero_replace','no_zeros','complete_log','cero_replace_log','no_zeros_log']\n",
    "datasets_gt = [labels,labels,labels_no_zeros,labels,labels,labels_no_zeros]"
   ]
  },
  {
   "cell_type": "markdown",
   "id": "22c5d4c0-a283-4acb-89d9-8312a62ef0f1",
   "metadata": {},
   "source": [
    "# K means result"
   ]
  },
  {
   "cell_type": "code",
   "execution_count": 9,
   "id": "97cb6a5b-c049-4412-b461-f35247a26c06",
   "metadata": {},
   "outputs": [],
   "source": [
    "from sklearn.cluster import KMeans\n",
    "for idx, dataset in enumerate(datasets):\n",
    "    X = dataset.values\n",
    "    kmeans = KMeans(n_clusters = 29).fit(X)\n",
    "    results = results.append({\n",
    "        'method':'k-means',\n",
    "        'ARI':adjusted_rand_score(datasets_gt[idx].x.values, kmeans.labels_),\n",
    "        'database':datasets_names[idx]\n",
    "    }, ignore_index = True)    "
   ]
  },
  {
   "cell_type": "code",
   "execution_count": 10,
   "id": "5561b449-9b45-45b4-945b-81fdbbe61f08",
   "metadata": {},
   "outputs": [
    {
     "name": "stdout",
     "output_type": "stream",
     "text": [
      "CPU times: user 1min 1s, sys: 84.7 ms, total: 1min 1s\n",
      "Wall time: 54.8 s\n"
     ]
    }
   ],
   "source": [
    "%%time\n",
    "from sklearn.cluster import SpectralClustering\n",
    "for idx, dataset in enumerate(datasets):\n",
    "    X = dataset.values\n",
    "    clustering = SpectralClustering(n_clusters=29,assign_labels='discretize', n_jobs=-1, affinity='nearest_neighbors').fit(X)\n",
    "    results = results.append({\n",
    "        'method':'spectral_clustering',\n",
    "        'ARI':adjusted_rand_score(datasets_gt[idx].x.values, clustering.labels_),\n",
    "        'database':datasets_names[idx]\n",
    "    }, ignore_index = True)    "
   ]
  },
  {
   "cell_type": "code",
   "execution_count": 12,
   "id": "86862265-c574-4a23-87c9-11b8795bafab",
   "metadata": {},
   "outputs": [
    {
     "data": {
      "text/html": [
       "<div>\n",
       "<style scoped>\n",
       "    .dataframe tbody tr th:only-of-type {\n",
       "        vertical-align: middle;\n",
       "    }\n",
       "\n",
       "    .dataframe tbody tr th {\n",
       "        vertical-align: top;\n",
       "    }\n",
       "\n",
       "    .dataframe thead th {\n",
       "        text-align: right;\n",
       "    }\n",
       "</style>\n",
       "<table border=\"1\" class=\"dataframe\">\n",
       "  <thead>\n",
       "    <tr style=\"text-align: right;\">\n",
       "      <th></th>\n",
       "      <th>method</th>\n",
       "      <th>ARI</th>\n",
       "      <th>database</th>\n",
       "    </tr>\n",
       "  </thead>\n",
       "  <tbody>\n",
       "    <tr>\n",
       "      <th>0</th>\n",
       "      <td>poisson_mix</td>\n",
       "      <td>0.725597</td>\n",
       "      <td>no_zeros</td>\n",
       "    </tr>\n",
       "    <tr>\n",
       "      <th>1</th>\n",
       "      <td>k-means</td>\n",
       "      <td>0.010214</td>\n",
       "      <td>complete</td>\n",
       "    </tr>\n",
       "    <tr>\n",
       "      <th>2</th>\n",
       "      <td>k-means</td>\n",
       "      <td>0.012913</td>\n",
       "      <td>cero_replace</td>\n",
       "    </tr>\n",
       "    <tr>\n",
       "      <th>3</th>\n",
       "      <td>k-means</td>\n",
       "      <td>0.013186</td>\n",
       "      <td>no_zeros</td>\n",
       "    </tr>\n",
       "    <tr>\n",
       "      <th>4</th>\n",
       "      <td>k-means</td>\n",
       "      <td>0.088843</td>\n",
       "      <td>complete_log</td>\n",
       "    </tr>\n",
       "    <tr>\n",
       "      <th>5</th>\n",
       "      <td>k-means</td>\n",
       "      <td>0.091425</td>\n",
       "      <td>cero_replace_log</td>\n",
       "    </tr>\n",
       "    <tr>\n",
       "      <th>6</th>\n",
       "      <td>k-means</td>\n",
       "      <td>0.091615</td>\n",
       "      <td>no_zeros_log</td>\n",
       "    </tr>\n",
       "    <tr>\n",
       "      <th>7</th>\n",
       "      <td>spectral_clustering</td>\n",
       "      <td>0.233935</td>\n",
       "      <td>complete</td>\n",
       "    </tr>\n",
       "    <tr>\n",
       "      <th>8</th>\n",
       "      <td>spectral_clustering</td>\n",
       "      <td>0.233728</td>\n",
       "      <td>cero_replace</td>\n",
       "    </tr>\n",
       "    <tr>\n",
       "      <th>9</th>\n",
       "      <td>spectral_clustering</td>\n",
       "      <td>0.242071</td>\n",
       "      <td>no_zeros</td>\n",
       "    </tr>\n",
       "    <tr>\n",
       "      <th>10</th>\n",
       "      <td>spectral_clustering</td>\n",
       "      <td>0.281838</td>\n",
       "      <td>complete_log</td>\n",
       "    </tr>\n",
       "    <tr>\n",
       "      <th>11</th>\n",
       "      <td>spectral_clustering</td>\n",
       "      <td>0.280735</td>\n",
       "      <td>cero_replace_log</td>\n",
       "    </tr>\n",
       "    <tr>\n",
       "      <th>12</th>\n",
       "      <td>spectral_clustering</td>\n",
       "      <td>0.285258</td>\n",
       "      <td>no_zeros_log</td>\n",
       "    </tr>\n",
       "  </tbody>\n",
       "</table>\n",
       "</div>"
      ],
      "text/plain": [
       "                 method       ARI          database\n",
       "0           poisson_mix  0.725597          no_zeros\n",
       "1               k-means  0.010214          complete\n",
       "2               k-means  0.012913      cero_replace\n",
       "3               k-means  0.013186          no_zeros\n",
       "4               k-means  0.088843      complete_log\n",
       "5               k-means  0.091425  cero_replace_log\n",
       "6               k-means  0.091615      no_zeros_log\n",
       "7   spectral_clustering  0.233935          complete\n",
       "8   spectral_clustering  0.233728      cero_replace\n",
       "9   spectral_clustering  0.242071          no_zeros\n",
       "10  spectral_clustering  0.281838      complete_log\n",
       "11  spectral_clustering  0.280735  cero_replace_log\n",
       "12  spectral_clustering  0.285258      no_zeros_log"
      ]
     },
     "execution_count": 12,
     "metadata": {},
     "output_type": "execute_result"
    }
   ],
   "source": [
    "results"
   ]
  },
  {
   "cell_type": "code",
   "execution_count": null,
   "id": "b2c542e9",
   "metadata": {},
   "outputs": [],
   "source": []
  }
 ],
 "metadata": {
  "kernelspec": {
   "display_name": "Python 3 (ipykernel)",
   "language": "python",
   "name": "python3"
  },
  "language_info": {
   "codemirror_mode": {
    "name": "ipython",
    "version": 3
   },
   "file_extension": ".py",
   "mimetype": "text/x-python",
   "name": "python",
   "nbconvert_exporter": "python",
   "pygments_lexer": "ipython3",
   "version": "3.9.7"
  }
 },
 "nbformat": 4,
 "nbformat_minor": 5
}
