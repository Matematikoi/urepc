{
 "cells": [
  {
   "cell_type": "code",
   "execution_count": 139,
   "id": "c2999dd3",
   "metadata": {},
   "outputs": [],
   "source": [
    "import seaborn as sns\n",
    "import matplotlib.pyplot as plt\n",
    "import pandas as pd\n",
    "import numpy as np\n",
    "sns.set_theme()\n"
   ]
  },
  {
   "cell_type": "code",
   "execution_count": 161,
   "id": "68912a57",
   "metadata": {},
   "outputs": [],
   "source": [
    "posteriors = pd.read_csv('./data/poisson_posteriors_liver_data.csv',index_col=0)\n",
    "data_points = pd.read_csv('./data/poisson_filtered_data_liver.csv',index_col=0)\n",
    "label = pd.read_csv('./data/poisson_labels_liver_data.csv',index_col=0)\n",
    "label_data = pd.read_csv('./data/poisson_labels_liver_data.csv',index_col=0)"
   ]
  },
  {
   "cell_type": "markdown",
   "id": "9d1d95bf",
   "metadata": {},
   "source": [
    "# Idea 1 use the percentage of counts used "
   ]
  },
  {
   "cell_type": "code",
   "execution_count": 129,
   "id": "c258c756",
   "metadata": {},
   "outputs": [
    {
     "data": {
      "text/html": [
       "<div>\n",
       "<style scoped>\n",
       "    .dataframe tbody tr th:only-of-type {\n",
       "        vertical-align: middle;\n",
       "    }\n",
       "\n",
       "    .dataframe tbody tr th {\n",
       "        vertical-align: top;\n",
       "    }\n",
       "\n",
       "    .dataframe thead th {\n",
       "        text-align: right;\n",
       "    }\n",
       "</style>\n",
       "<table border=\"1\" class=\"dataframe\">\n",
       "  <thead>\n",
       "    <tr style=\"text-align: right;\">\n",
       "      <th></th>\n",
       "      <th>ramosb1</th>\n",
       "      <th>ramosb2</th>\n",
       "      <th>HEK293T1</th>\n",
       "      <th>HEK293T2</th>\n",
       "    </tr>\n",
       "    <tr>\n",
       "      <th>label</th>\n",
       "      <th></th>\n",
       "      <th></th>\n",
       "      <th></th>\n",
       "      <th></th>\n",
       "    </tr>\n",
       "  </thead>\n",
       "  <tbody>\n",
       "    <tr>\n",
       "      <th>1</th>\n",
       "      <td>0.003072</td>\n",
       "      <td>0.002341</td>\n",
       "      <td>0.500974</td>\n",
       "      <td>0.493613</td>\n",
       "    </tr>\n",
       "    <tr>\n",
       "      <th>2</th>\n",
       "      <td>0.504199</td>\n",
       "      <td>0.493382</td>\n",
       "      <td>0.001156</td>\n",
       "      <td>0.001264</td>\n",
       "    </tr>\n",
       "    <tr>\n",
       "      <th>3</th>\n",
       "      <td>0.047662</td>\n",
       "      <td>0.048982</td>\n",
       "      <td>0.445225</td>\n",
       "      <td>0.458131</td>\n",
       "    </tr>\n",
       "    <tr>\n",
       "      <th>4</th>\n",
       "      <td>0.474408</td>\n",
       "      <td>0.482738</td>\n",
       "      <td>0.021708</td>\n",
       "      <td>0.021146</td>\n",
       "    </tr>\n",
       "    <tr>\n",
       "      <th>5</th>\n",
       "      <td>0.177825</td>\n",
       "      <td>0.172421</td>\n",
       "      <td>0.322971</td>\n",
       "      <td>0.326783</td>\n",
       "    </tr>\n",
       "    <tr>\n",
       "      <th>6</th>\n",
       "      <td>0.445974</td>\n",
       "      <td>0.442815</td>\n",
       "      <td>0.055971</td>\n",
       "      <td>0.055240</td>\n",
       "    </tr>\n",
       "    <tr>\n",
       "      <th>7</th>\n",
       "      <td>0.126230</td>\n",
       "      <td>0.127917</td>\n",
       "      <td>0.373925</td>\n",
       "      <td>0.371928</td>\n",
       "    </tr>\n",
       "    <tr>\n",
       "      <th>8</th>\n",
       "      <td>0.405267</td>\n",
       "      <td>0.398433</td>\n",
       "      <td>0.100669</td>\n",
       "      <td>0.095632</td>\n",
       "    </tr>\n",
       "    <tr>\n",
       "      <th>9</th>\n",
       "      <td>0.320088</td>\n",
       "      <td>0.325017</td>\n",
       "      <td>0.181299</td>\n",
       "      <td>0.173596</td>\n",
       "    </tr>\n",
       "    <tr>\n",
       "      <th>10</th>\n",
       "      <td>0.355758</td>\n",
       "      <td>0.356982</td>\n",
       "      <td>0.144190</td>\n",
       "      <td>0.143071</td>\n",
       "    </tr>\n",
       "    <tr>\n",
       "      <th>11</th>\n",
       "      <td>0.208082</td>\n",
       "      <td>0.206454</td>\n",
       "      <td>0.292174</td>\n",
       "      <td>0.293290</td>\n",
       "    </tr>\n",
       "    <tr>\n",
       "      <th>12</th>\n",
       "      <td>0.232630</td>\n",
       "      <td>0.240062</td>\n",
       "      <td>0.262087</td>\n",
       "      <td>0.265220</td>\n",
       "    </tr>\n",
       "    <tr>\n",
       "      <th>13</th>\n",
       "      <td>0.259951</td>\n",
       "      <td>0.260849</td>\n",
       "      <td>0.239393</td>\n",
       "      <td>0.239807</td>\n",
       "    </tr>\n",
       "    <tr>\n",
       "      <th>14</th>\n",
       "      <td>0.291785</td>\n",
       "      <td>0.290012</td>\n",
       "      <td>0.208582</td>\n",
       "      <td>0.209621</td>\n",
       "    </tr>\n",
       "  </tbody>\n",
       "</table>\n",
       "</div>"
      ],
      "text/plain": [
       "        ramosb1   ramosb2  HEK293T1  HEK293T2\n",
       "label                                        \n",
       "1      0.003072  0.002341  0.500974  0.493613\n",
       "2      0.504199  0.493382  0.001156  0.001264\n",
       "3      0.047662  0.048982  0.445225  0.458131\n",
       "4      0.474408  0.482738  0.021708  0.021146\n",
       "5      0.177825  0.172421  0.322971  0.326783\n",
       "6      0.445974  0.442815  0.055971  0.055240\n",
       "7      0.126230  0.127917  0.373925  0.371928\n",
       "8      0.405267  0.398433  0.100669  0.095632\n",
       "9      0.320088  0.325017  0.181299  0.173596\n",
       "10     0.355758  0.356982  0.144190  0.143071\n",
       "11     0.208082  0.206454  0.292174  0.293290\n",
       "12     0.232630  0.240062  0.262087  0.265220\n",
       "13     0.259951  0.260849  0.239393  0.239807\n",
       "14     0.291785  0.290012  0.208582  0.209621"
      ]
     },
     "execution_count": 129,
     "metadata": {},
     "output_type": "execute_result"
    }
   ],
   "source": [
    "data_points_percentage = data_points.copy()\n",
    "data_points_percentage['label'] = label.values\n",
    "data_percentages = data_points_percentage.groupby('label').sum()\n",
    "\n",
    "for col in data_percentages:\n",
    "    data_percentages[col] = data_percentages[col] / np.sum(data_percentages[col])\n",
    "sum_hor = np.sum(data_percentages, axis = 1)\n",
    "for col in data_percentages:\n",
    "    data_percentages[col] = data_percentages[col] / sum_hor\n",
    "data_percentages.rename(columns = {\n",
    "    'SRX008333':'ramosb1',\n",
    "    'SRX008334':'ramosb2',\n",
    "    'SRX008331':'HEK293T1',\n",
    "    'SRX008332':'HEK293T2'\n",
    "}, inplace = True)\n",
    "data_percentages"
   ]
  },
  {
   "cell_type": "code",
   "execution_count": 130,
   "id": "592c581f",
   "metadata": {},
   "outputs": [
    {
     "data": {
      "image/png": "[encoded data removed]",
      "text/plain": [
       "<Figure size 864x432 with 1 Axes>"
      ]
     },
     "metadata": {
      "needs_background": "light"
     },
     "output_type": "display_data"
    }
   ],
   "source": [
    "foo = np.random.rand(14)\n",
    "data_percentages.plot.bar(stacked=True,  figsize=(12,6), cmap = 'viridis' )#width = foo)\n",
    "plt.legend(loc='center left', bbox_to_anchor=(1.0, 0.5))\n",
    "plt.tight_layout()"
   ]
  },
  {
   "cell_type": "code",
   "execution_count": null,
   "id": "32eeaa3a",
   "metadata": {},
   "outputs": [],
   "source": [
    "data_percentages.iloc[:,:] = np.cumsum(data_percentages.values, axis = 1)"
   ]
  },
  {
   "cell_type": "code",
   "execution_count": 193,
   "id": "71563e69",
   "metadata": {},
   "outputs": [
    {
     "data": {
      "image/png": "[encoded data removed]",
      "text/plain": [
       "<Figure size 842.4x595.44 with 1 Axes>"
      ]
     },
     "metadata": {},
     "output_type": "display_data"
    }
   ],
   "source": [
    "def change_width(ax, new_value) :\n",
    "    cnt = 0\n",
    "    for patch in ax.patches :\n",
    "        current_width = patch.get_width()\n",
    "        #diff = (current_width - new_value[cnt])\n",
    "        #print(patch)\n",
    "        # we change the bar width\n",
    "        patch.set_width(new_value[cnt] * len(new_value))\n",
    "\n",
    "        # we recenter the bar\n",
    "        patch.set_x((np.cumsum(new_value)[cnt]-new_value[cnt])*len(new_value))\n",
    "        \n",
    "        cnt = (cnt+1) % len(new_value)\n",
    "\n",
    "val,ori,label = [],[],[]\n",
    "for col in data_percentages:\n",
    "    val.extend(data_percentages[col].values)\n",
    "    ori.extend([col]*len(data_percentages))\n",
    "    label.extend(list(range(1,len(data_percentages)+1)))\n",
    "df = pd.DataFrame({'value':val,'origin':ori, 'label': label})\n",
    "fig, ax = plt.subplots()\n",
    "\n",
    "sns.barplot(data = df, \n",
    "            y = 'value', \n",
    "            x = 'label', \n",
    "            hue = 'origin', \n",
    "            dodge = False, \n",
    "            hue_order = data_percentages.columns[::-1], \n",
    "            palette = 'viridis',\n",
    "            ax = ax\n",
    "           );\n",
    "widths = label_data.value_counts(normalize = True).sort_index().values\n",
    "change_width(ax = ax, new_value = widths)\n",
    "fig.set_size_inches(11.7, 8.27)\n",
    "ax.set_xticks((np.cumsum(widths)-widths)*len(widths))\n",
    "ax.set_xticklabels(list(range(1,len(widths)+1)))\n",
    "plt.legend(loc='center left', bbox_to_anchor=(1.0, 0.5))\n",
    "plt.tight_layout()"
   ]
  }
 ],
 "metadata": {
  "kernelspec": {
   "display_name": "Python 3 (ipykernel)",
   "language": "python",
   "name": "python3"
  },
  "language_info": {
   "codemirror_mode": {
    "name": "ipython",
    "version": 3
   },
   "file_extension": ".py",
   "mimetype": "text/x-python",
   "name": "python",
   "nbconvert_exporter": "python",
   "pygments_lexer": "ipython3",
   "version": "3.9.6"
  }
 },
 "nbformat": 4,
 "nbformat_minor": 5
}
