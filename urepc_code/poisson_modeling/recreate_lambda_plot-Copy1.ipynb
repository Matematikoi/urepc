{
 "cells": [
  {
   "cell_type": "code",
   "execution_count": 7,
   "id": "c2999dd3",
   "metadata": {},
   "outputs": [],
   "source": [
    "import seaborn as sns\n",
    "import matplotlib.pyplot as plt\n",
    "import pandas as pd\n",
    "import numpy as np\n",
    "sns.set_theme()\n"
   ]
  },
  {
   "cell_type": "code",
   "execution_count": 8,
   "id": "68912a57",
   "metadata": {},
   "outputs": [],
   "source": [
    "posteriors = pd.read_csv('./data/poisson_posteriors_liver_data.csv',index_col=0)\n",
    "data_points = pd.read_csv('./data/poisson_filtered_data_liver.csv',index_col=0)\n",
    "label = pd.read_csv('./data/poisson_labels_liver_data.csv',index_col=0)\n",
    "label_data = pd.read_csv('./data/poisson_labels_liver_data.csv',index_col=0)"
   ]
  },
  {
   "cell_type": "markdown",
   "id": "9d1d95bf",
   "metadata": {},
   "source": [
    "# Idea 1 use the percentage of counts used "
   ]
  },
  {
   "cell_type": "code",
   "execution_count": 9,
   "id": "c258c756",
   "metadata": {},
   "outputs": [
    {
     "data": {
      "text/html": [
       "<div>\n",
       "<style scoped>\n",
       "    .dataframe tbody tr th:only-of-type {\n",
       "        vertical-align: middle;\n",
       "    }\n",
       "\n",
       "    .dataframe tbody tr th {\n",
       "        vertical-align: top;\n",
       "    }\n",
       "\n",
       "    .dataframe thead th {\n",
       "        text-align: right;\n",
       "    }\n",
       "</style>\n",
       "<table border=\"1\" class=\"dataframe\">\n",
       "  <thead>\n",
       "    <tr style=\"text-align: right;\">\n",
       "      <th></th>\n",
       "      <th>ramosb1</th>\n",
       "      <th>ramosb2</th>\n",
       "      <th>HEK293T1</th>\n",
       "      <th>HEK293T2</th>\n",
       "    </tr>\n",
       "    <tr>\n",
       "      <th>label</th>\n",
       "      <th></th>\n",
       "      <th></th>\n",
       "      <th></th>\n",
       "      <th></th>\n",
       "    </tr>\n",
       "  </thead>\n",
       "  <tbody>\n",
       "    <tr>\n",
       "      <th>1</th>\n",
       "      <td>213</td>\n",
       "      <td>150</td>\n",
       "      <td>41678</td>\n",
       "      <td>39172</td>\n",
       "    </tr>\n",
       "    <tr>\n",
       "      <th>2</th>\n",
       "      <td>33811</td>\n",
       "      <td>30577</td>\n",
       "      <td>93</td>\n",
       "      <td>97</td>\n",
       "    </tr>\n",
       "    <tr>\n",
       "      <th>3</th>\n",
       "      <td>1672</td>\n",
       "      <td>1588</td>\n",
       "      <td>18743</td>\n",
       "      <td>18397</td>\n",
       "    </tr>\n",
       "    <tr>\n",
       "      <th>4</th>\n",
       "      <td>12602</td>\n",
       "      <td>11851</td>\n",
       "      <td>692</td>\n",
       "      <td>643</td>\n",
       "    </tr>\n",
       "    <tr>\n",
       "      <th>5</th>\n",
       "      <td>36821</td>\n",
       "      <td>32995</td>\n",
       "      <td>80254</td>\n",
       "      <td>77457</td>\n",
       "    </tr>\n",
       "    <tr>\n",
       "      <th>6</th>\n",
       "      <td>13379</td>\n",
       "      <td>12277</td>\n",
       "      <td>2015</td>\n",
       "      <td>1897</td>\n",
       "    </tr>\n",
       "    <tr>\n",
       "      <th>7</th>\n",
       "      <td>18277</td>\n",
       "      <td>17117</td>\n",
       "      <td>64972</td>\n",
       "      <td>61645</td>\n",
       "    </tr>\n",
       "    <tr>\n",
       "      <th>8</th>\n",
       "      <td>25918</td>\n",
       "      <td>23549</td>\n",
       "      <td>7726</td>\n",
       "      <td>7001</td>\n",
       "    </tr>\n",
       "    <tr>\n",
       "      <th>9</th>\n",
       "      <td>46274</td>\n",
       "      <td>43424</td>\n",
       "      <td>31453</td>\n",
       "      <td>28728</td>\n",
       "    </tr>\n",
       "    <tr>\n",
       "      <th>10</th>\n",
       "      <td>29047</td>\n",
       "      <td>26937</td>\n",
       "      <td>14128</td>\n",
       "      <td>13372</td>\n",
       "    </tr>\n",
       "    <tr>\n",
       "      <th>11</th>\n",
       "      <td>34991</td>\n",
       "      <td>32085</td>\n",
       "      <td>58961</td>\n",
       "      <td>56457</td>\n",
       "    </tr>\n",
       "    <tr>\n",
       "      <th>12</th>\n",
       "      <td>47456</td>\n",
       "      <td>45259</td>\n",
       "      <td>64161</td>\n",
       "      <td>61934</td>\n",
       "    </tr>\n",
       "    <tr>\n",
       "      <th>13</th>\n",
       "      <td>56741</td>\n",
       "      <td>52620</td>\n",
       "      <td>62707</td>\n",
       "      <td>59919</td>\n",
       "    </tr>\n",
       "    <tr>\n",
       "      <th>14</th>\n",
       "      <td>55296</td>\n",
       "      <td>50793</td>\n",
       "      <td>47436</td>\n",
       "      <td>45474</td>\n",
       "    </tr>\n",
       "  </tbody>\n",
       "</table>\n",
       "</div>"
      ],
      "text/plain": [
       "       ramosb1  ramosb2  HEK293T1  HEK293T2\n",
       "label                                      \n",
       "1          213      150     41678     39172\n",
       "2        33811    30577        93        97\n",
       "3         1672     1588     18743     18397\n",
       "4        12602    11851       692       643\n",
       "5        36821    32995     80254     77457\n",
       "6        13379    12277      2015      1897\n",
       "7        18277    17117     64972     61645\n",
       "8        25918    23549      7726      7001\n",
       "9        46274    43424     31453     28728\n",
       "10       29047    26937     14128     13372\n",
       "11       34991    32085     58961     56457\n",
       "12       47456    45259     64161     61934\n",
       "13       56741    52620     62707     59919\n",
       "14       55296    50793     47436     45474"
      ]
     },
     "execution_count": 9,
     "metadata": {},
     "output_type": "execute_result"
    }
   ],
   "source": [
    "data_points_percentage = data_points.copy()\n",
    "data_points_percentage['label'] = label.values\n",
    "data_percentages = data_points_percentage.groupby('label').sum()\n",
    "\n",
    "#for col in data_percentages:\n",
    "#    data_percentages[col] = data_percentages[col] / np.sum(data_percentages[col])\n",
    "sum_hor = np.sum(data_percentages, axis = 1)\n",
    "#for col in data_percentages:\n",
    "#    data_percentages[col] = data_percentages[col] / sum_hor\n",
    "data_percentages.rename(columns = {\n",
    "    'SRX008333':'ramosb1',\n",
    "    'SRX008334':'ramosb2',\n",
    "    'SRX008331':'HEK293T1',\n",
    "    'SRX008332':'HEK293T2'\n",
    "}, inplace = True)\n",
    "data_percentages"
   ]
  },
  {
   "cell_type": "code",
   "execution_count": 10,
   "id": "592c581f",
   "metadata": {},
   "outputs": [
    {
     "data": {
      "image/png": "[encoded data removed]",
      "text/plain": [
       "<Figure size 864x432 with 1 Axes>"
      ]
     },
     "metadata": {},
     "output_type": "display_data"
    }
   ],
   "source": [
    "foo = np.random.rand(14)\n",
    "data_percentages.plot.bar(stacked=True,  figsize=(12,6), cmap = 'viridis' )#width = foo)\n",
    "plt.legend(loc='center left', bbox_to_anchor=(1.0, 0.5))\n",
    "plt.tight_layout()"
   ]
  },
  {
   "cell_type": "code",
   "execution_count": 11,
   "id": "32eeaa3a",
   "metadata": {},
   "outputs": [],
   "source": [
    "#data_percentages.iloc[:,:] = np.cumsum(data_percentages.values, axis = 1)"
   ]
  },
  {
   "cell_type": "code",
   "execution_count": 13,
   "id": "71563e69",
   "metadata": {},
   "outputs": [
    {
     "data": {
      "image/png": "[encoded data removed]",
      "text/plain": [
       "<Figure size 842.4x595.44 with 1 Axes>"
      ]
     },
     "metadata": {},
     "output_type": "display_data"
    }
   ],
   "source": [
    "def change_width(ax, new_value) :\n",
    "    cnt = 0\n",
    "    for patch in ax.patches :\n",
    "        current_width = patch.get_width()\n",
    "        #diff = (current_width - new_value[cnt])\n",
    "        #print(patch)\n",
    "        # we change the bar width\n",
    "        patch.set_width(new_value[cnt] * len(new_value))\n",
    "\n",
    "        # we recenter the bar\n",
    "        patch.set_x((np.cumsum(new_value)[cnt]-new_value[cnt])*len(new_value))\n",
    "        \n",
    "        cnt = (cnt+1) % len(new_value)\n",
    "\n",
    "val,ori,label = [],[],[]\n",
    "for col in data_percentages:\n",
    "    val.extend(data_percentages[col].values)\n",
    "    ori.extend([col]*len(data_percentages))\n",
    "    label.extend(list(range(1,len(data_percentages)+1)))\n",
    "df = pd.DataFrame({'value':val,'origin':ori, 'label': label})\n",
    "fig, ax = plt.subplots()\n",
    "\n",
    "sns.barplot(data = df, \n",
    "            y = 'value', \n",
    "            x = 'label', \n",
    "            hue = 'origin', \n",
    "            dodge = False, \n",
    "            hue_order = data_percentages.columns[::-1], \n",
    "            palette = 'viridis',\n",
    "            ax = ax\n",
    "           );\n",
    "widths = label_data.value_counts(normalize = True).sort_index().values\n",
    "change_width(ax = ax, new_value = widths)\n",
    "fig.set_size_inches(11.7, 8.27)\n",
    "ax.set_xticks((np.cumsum(widths)-widths)*len(widths))\n",
    "ax.set_xticklabels(list(range(1,len(widths)+1)))\n",
    "plt.legend(loc='center left', bbox_to_anchor=(1.0, 0.5))\n",
    "plt.tight_layout()"
   ]
  },
  {
   "cell_type": "code",
   "execution_count": null,
   "id": "4eba290d-f383-4bbe-8e09-69dedfd43a53",
   "metadata": {},
   "outputs": [],
   "source": []
  }
 ],
 "metadata": {
  "kernelspec": {
   "display_name": "Python 3",
   "language": "python",
   "name": "python3"
  },
  "language_info": {
   "codemirror_mode": {
    "name": "ipython",
    "version": 3
   },
   "file_extension": ".py",
   "mimetype": "text/x-python",
   "name": "python",
   "nbconvert_exporter": "python",
   "pygments_lexer": "ipython3",
   "version": "3.8.8"
  }
 },
 "nbformat": 4,
 "nbformat_minor": 5
}
