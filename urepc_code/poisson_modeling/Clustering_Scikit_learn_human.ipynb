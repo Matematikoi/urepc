{
 "cells": [
  {
   "cell_type": "code",
   "execution_count": 77,
   "id": "2bf76941-1a3a-4538-8ed5-a46e1bccd43d",
   "metadata": {},
   "outputs": [],
   "source": [
    "import pandas as pd\n",
    "import numpy as np\n",
    "from sklearn.metrics.cluster import adjusted_rand_score"
   ]
  },
  {
   "cell_type": "markdown",
   "id": "3a41b7ab-76ff-4d0b-9e8f-c62e61c187d1",
   "metadata": {},
   "source": [
    "# Original data and poisson results"
   ]
  },
  {
   "cell_type": "code",
   "execution_count": 78,
   "id": "71ae72bc-a049-494c-bdfc-481616bc8c3d",
   "metadata": {},
   "outputs": [
    {
     "data": {
      "text/html": [
       "<div>\n",
       "<style scoped>\n",
       "    .dataframe tbody tr th:only-of-type {\n",
       "        vertical-align: middle;\n",
       "    }\n",
       "\n",
       "    .dataframe tbody tr th {\n",
       "        vertical-align: top;\n",
       "    }\n",
       "\n",
       "    .dataframe thead th {\n",
       "        text-align: right;\n",
       "    }\n",
       "</style>\n",
       "<table border=\"1\" class=\"dataframe\">\n",
       "  <thead>\n",
       "    <tr style=\"text-align: right;\">\n",
       "      <th></th>\n",
       "      <th>V1</th>\n",
       "      <th>V2</th>\n",
       "      <th>V3</th>\n",
       "      <th>V4</th>\n",
       "    </tr>\n",
       "  </thead>\n",
       "  <tbody>\n",
       "    <tr>\n",
       "      <th>1</th>\n",
       "      <td>37</td>\n",
       "      <td>0</td>\n",
       "      <td>27</td>\n",
       "      <td>0</td>\n",
       "    </tr>\n",
       "    <tr>\n",
       "      <th>2</th>\n",
       "      <td>10</td>\n",
       "      <td>17</td>\n",
       "      <td>11</td>\n",
       "      <td>20</td>\n",
       "    </tr>\n",
       "    <tr>\n",
       "      <th>3</th>\n",
       "      <td>25</td>\n",
       "      <td>14</td>\n",
       "      <td>21</td>\n",
       "      <td>13</td>\n",
       "    </tr>\n",
       "    <tr>\n",
       "      <th>4</th>\n",
       "      <td>16</td>\n",
       "      <td>0</td>\n",
       "      <td>13</td>\n",
       "      <td>0</td>\n",
       "    </tr>\n",
       "    <tr>\n",
       "      <th>5</th>\n",
       "      <td>109</td>\n",
       "      <td>63</td>\n",
       "      <td>72</td>\n",
       "      <td>46</td>\n",
       "    </tr>\n",
       "  </tbody>\n",
       "</table>\n",
       "</div>"
      ],
      "text/plain": [
       "    V1  V2  V3  V4\n",
       "1   37   0  27   0\n",
       "2   10  17  11  20\n",
       "3   25  14  21  13\n",
       "4   16   0  13   0\n",
       "5  109  63  72  46"
      ]
     },
     "execution_count": 78,
     "metadata": {},
     "output_type": "execute_result"
    }
   ],
   "source": [
    "data = pd.read_csv('./human_sim_data/sim_data_1.csv',index_col=0)\n",
    "data_no_zeros = data[np.max(data.values, axis = 1) > 0 ].copy()\n",
    "data.head()"
   ]
  },
  {
   "cell_type": "markdown",
   "id": "07442bc5-998e-44d0-9c29-6404adf95be4",
   "metadata": {},
   "source": [
    "## Make a cero replacement\n",
    "replace with a uniform value, this might help the log ones, and non-poisson algorithms"
   ]
  },
  {
   "cell_type": "code",
   "execution_count": 79,
   "id": "e0b4516c-87cf-4fea-8d4a-300ca907a181",
   "metadata": {},
   "outputs": [
    {
     "name": "stdout",
     "output_type": "stream",
     "text": [
      "Minimum element different than cero in row V1\t: 1\n",
      "Minimum element different than cero in row V2\t: 1\n",
      "Minimum element different than cero in row V3\t: 1\n",
      "Minimum element different than cero in row V4\t: 1\n"
     ]
    }
   ],
   "source": [
    "data_cero_replace = data.copy()\n",
    "for col_number, col_name in enumerate(data.columns):\n",
    "    min_element = 1\n",
    "    print('Minimum element different than cero in row {}\\t: {}'.format(col_name,min_element))\n",
    "    for row in range(len(data_cero_replace)):\n",
    "        if data_cero_replace.iloc[row,col_number] == 0 :\n",
    "            data_cero_replace.iloc[row,col_number] = np.random.uniform(0,min_element)"
   ]
  },
  {
   "cell_type": "code",
   "execution_count": 80,
   "id": "adb07068-0d25-4688-b6ef-cd448caf076b",
   "metadata": {},
   "outputs": [],
   "source": [
    "labels = pd.read_csv('./human_sim_data/sim_data_1_labels.csv',index_col = 0)\n",
    "labels_no_zeros = labels[np.max(data.values, axis = 1) > 0]"
   ]
  },
  {
   "cell_type": "markdown",
   "id": "5ed2f7d9-0688-4e36-9146-cedda8e98a64",
   "metadata": {},
   "source": [
    "# Save the databases\n",
    "Save them normally and with a log "
   ]
  },
  {
   "cell_type": "code",
   "execution_count": 81,
   "id": "2eb4e399-e910-48b0-aa7d-9b850f808da2",
   "metadata": {},
   "outputs": [],
   "source": [
    "labels.to_csv('./human_sim_data/labels_complete.csv', index = False)\n",
    "labels_no_zeros.to_csv('./human_sim_data/labels_no_zeros.csv', index = False)\n",
    "data_cero_replace.to_csv('./human_sim_data/data_cero_replace.csv', index = False)\n",
    "data.to_csv('./human_sim_data/data.csv', index = False)\n",
    "data_no_zeros.to_csv('./human_sim_data/data_no_zeros.csv', index = False)"
   ]
  },
  {
   "cell_type": "markdown",
   "id": "34f83da8-9002-46a4-aa74-be0fec12e3c2",
   "metadata": {},
   "source": [
    "# Get ARI results"
   ]
  },
  {
   "cell_type": "code",
   "execution_count": 82,
   "id": "f3a1552a-d44d-4d56-8384-52553811134c",
   "metadata": {},
   "outputs": [
    {
     "data": {
      "text/html": [
       "<div>\n",
       "<style scoped>\n",
       "    .dataframe tbody tr th:only-of-type {\n",
       "        vertical-align: middle;\n",
       "    }\n",
       "\n",
       "    .dataframe tbody tr th {\n",
       "        vertical-align: top;\n",
       "    }\n",
       "\n",
       "    .dataframe thead th {\n",
       "        text-align: right;\n",
       "    }\n",
       "</style>\n",
       "<table border=\"1\" class=\"dataframe\">\n",
       "  <thead>\n",
       "    <tr style=\"text-align: right;\">\n",
       "      <th></th>\n",
       "      <th>method</th>\n",
       "      <th>ARI</th>\n",
       "      <th>database</th>\n",
       "    </tr>\n",
       "  </thead>\n",
       "  <tbody>\n",
       "    <tr>\n",
       "      <th>0</th>\n",
       "      <td>poisson_mix</td>\n",
       "      <td>0.507364</td>\n",
       "      <td>no_zeros</td>\n",
       "    </tr>\n",
       "  </tbody>\n",
       "</table>\n",
       "</div>"
      ],
      "text/plain": [
       "        method       ARI  database\n",
       "0  poisson_mix  0.507364  no_zeros"
      ]
     },
     "execution_count": 82,
     "metadata": {},
     "output_type": "execute_result"
    }
   ],
   "source": [
    "poisson_results = pd.read_csv('./human_sim_data/sim_data_poisson_clustering_14.csv',index_col=0)\n",
    "results = pd.DataFrame({'method':[],'ARI':[],'database':[]})\n",
    "results = results.append({\n",
    "    'method':'poisson_mix',\n",
    "    'ARI':adjusted_rand_score(labels_no_zeros.x.values, poisson_results.x.values),\n",
    "    'database':'no_zeros'\n",
    "}, ignore_index = True)\n",
    "results"
   ]
  },
  {
   "cell_type": "code",
   "execution_count": 83,
   "id": "31f09ada-c977-45d9-88a0-71da3ec0a842",
   "metadata": {},
   "outputs": [],
   "source": [
    "datasets = [data,data_cero_replace, data_no_zeros, np.log(data+1), np.log(data_cero_replace+1), np.log(data_no_zeros+1)]\n",
    "datasets_names = ['complete','cero_replace','no_zeros','complete_log','cero_replace_log','no_zeros_log']\n",
    "datasets_gt = [labels,labels,labels_no_zeros,labels,labels,labels_no_zeros]"
   ]
  },
  {
   "cell_type": "markdown",
   "id": "22c5d4c0-a283-4acb-89d9-8312a62ef0f1",
   "metadata": {},
   "source": [
    "# K means result"
   ]
  },
  {
   "cell_type": "code",
   "execution_count": 84,
   "id": "97cb6a5b-c049-4412-b461-f35247a26c06",
   "metadata": {},
   "outputs": [],
   "source": [
    "from sklearn.cluster import KMeans\n",
    "for idx, dataset in enumerate(datasets):\n",
    "    X = dataset.values\n",
    "    kmeans = KMeans(n_clusters = 15).fit(X)\n",
    "    results = results.append({\n",
    "        'method':'k-means',\n",
    "        'ARI':adjusted_rand_score(datasets_gt[idx].x.values, kmeans.labels_),\n",
    "        'database':datasets_names[idx]\n",
    "    }, ignore_index = True)    "
   ]
  },
  {
   "cell_type": "code",
   "execution_count": 85,
   "id": "5561b449-9b45-45b4-945b-81fdbbe61f08",
   "metadata": {},
   "outputs": [
    {
     "name": "stdout",
     "output_type": "stream",
     "text": [
      "CPU times: user 4.32 s, sys: 0 ns, total: 4.32 s\n",
      "Wall time: 3.43 s\n"
     ]
    }
   ],
   "source": [
    "%%time\n",
    "from sklearn.cluster import SpectralClustering\n",
    "for idx, dataset in enumerate(datasets):\n",
    "    X = dataset.values\n",
    "    clustering = SpectralClustering(n_clusters=15,assign_labels='discretize', n_jobs=-1, affinity='nearest_neighbors').fit(X)\n",
    "    results = results.append({\n",
    "        'method':'spectral_clustering',\n",
    "        'ARI':adjusted_rand_score(datasets_gt[idx].x.values, clustering.labels_),\n",
    "        'database':datasets_names[idx]\n",
    "    }, ignore_index = True)    "
   ]
  },
  {
   "cell_type": "markdown",
   "id": "f73e22fa-7329-4c5d-9b82-6dec84bd1016",
   "metadata": {},
   "source": [
    "# npMSL results"
   ]
  },
  {
   "cell_type": "code",
   "execution_count": 86,
   "id": "334af456-e15b-43dd-a5e6-69c01e7d3ec9",
   "metadata": {},
   "outputs": [
    {
     "data": {
      "text/plain": [
       "0.15074350997294636"
      ]
     },
     "execution_count": 86,
     "metadata": {},
     "output_type": "execute_result"
    }
   ],
   "source": [
    "npMSL = pd.read_csv('human_sim_data/npMSL/posteriors.csv', index_col=0)\n",
    "adjusted_rand_score(labels.x.values, np.argmax(npMSL.values, axis = 1))"
   ]
  },
  {
   "cell_type": "code",
   "execution_count": 88,
   "id": "86862265-c574-4a23-87c9-11b8795bafab",
   "metadata": {},
   "outputs": [
    {
     "data": {
      "text/html": [
       "<div>\n",
       "<style scoped>\n",
       "    .dataframe tbody tr th:only-of-type {\n",
       "        vertical-align: middle;\n",
       "    }\n",
       "\n",
       "    .dataframe tbody tr th {\n",
       "        vertical-align: top;\n",
       "    }\n",
       "\n",
       "    .dataframe thead th {\n",
       "        text-align: right;\n",
       "    }\n",
       "</style>\n",
       "<table border=\"1\" class=\"dataframe\">\n",
       "  <thead>\n",
       "    <tr style=\"text-align: right;\">\n",
       "      <th></th>\n",
       "      <th>method</th>\n",
       "      <th>ARI</th>\n",
       "      <th>database</th>\n",
       "    </tr>\n",
       "  </thead>\n",
       "  <tbody>\n",
       "    <tr>\n",
       "      <th>0</th>\n",
       "      <td>poisson_mix</td>\n",
       "      <td>0.507364</td>\n",
       "      <td>no_zeros</td>\n",
       "    </tr>\n",
       "    <tr>\n",
       "      <th>1</th>\n",
       "      <td>k-means</td>\n",
       "      <td>0.007275</td>\n",
       "      <td>complete</td>\n",
       "    </tr>\n",
       "    <tr>\n",
       "      <th>2</th>\n",
       "      <td>k-means</td>\n",
       "      <td>0.005097</td>\n",
       "      <td>cero_replace</td>\n",
       "    </tr>\n",
       "    <tr>\n",
       "      <th>3</th>\n",
       "      <td>k-means</td>\n",
       "      <td>0.006929</td>\n",
       "      <td>no_zeros</td>\n",
       "    </tr>\n",
       "    <tr>\n",
       "      <th>4</th>\n",
       "      <td>k-means</td>\n",
       "      <td>0.143557</td>\n",
       "      <td>complete_log</td>\n",
       "    </tr>\n",
       "    <tr>\n",
       "      <th>5</th>\n",
       "      <td>k-means</td>\n",
       "      <td>0.145019</td>\n",
       "      <td>cero_replace_log</td>\n",
       "    </tr>\n",
       "    <tr>\n",
       "      <th>6</th>\n",
       "      <td>k-means</td>\n",
       "      <td>0.143210</td>\n",
       "      <td>no_zeros_log</td>\n",
       "    </tr>\n",
       "    <tr>\n",
       "      <th>7</th>\n",
       "      <td>spectral_clustering</td>\n",
       "      <td>0.111167</td>\n",
       "      <td>complete</td>\n",
       "    </tr>\n",
       "    <tr>\n",
       "      <th>8</th>\n",
       "      <td>spectral_clustering</td>\n",
       "      <td>0.111620</td>\n",
       "      <td>cero_replace</td>\n",
       "    </tr>\n",
       "    <tr>\n",
       "      <th>9</th>\n",
       "      <td>spectral_clustering</td>\n",
       "      <td>0.110905</td>\n",
       "      <td>no_zeros</td>\n",
       "    </tr>\n",
       "    <tr>\n",
       "      <th>10</th>\n",
       "      <td>spectral_clustering</td>\n",
       "      <td>0.126685</td>\n",
       "      <td>complete_log</td>\n",
       "    </tr>\n",
       "    <tr>\n",
       "      <th>11</th>\n",
       "      <td>spectral_clustering</td>\n",
       "      <td>0.142663</td>\n",
       "      <td>cero_replace_log</td>\n",
       "    </tr>\n",
       "    <tr>\n",
       "      <th>12</th>\n",
       "      <td>spectral_clustering</td>\n",
       "      <td>0.126010</td>\n",
       "      <td>no_zeros_log</td>\n",
       "    </tr>\n",
       "  </tbody>\n",
       "</table>\n",
       "</div>"
      ],
      "text/plain": [
       "                 method       ARI          database\n",
       "0           poisson_mix  0.507364          no_zeros\n",
       "1               k-means  0.007275          complete\n",
       "2               k-means  0.005097      cero_replace\n",
       "3               k-means  0.006929          no_zeros\n",
       "4               k-means  0.143557      complete_log\n",
       "5               k-means  0.145019  cero_replace_log\n",
       "6               k-means  0.143210      no_zeros_log\n",
       "7   spectral_clustering  0.111167          complete\n",
       "8   spectral_clustering  0.111620      cero_replace\n",
       "9   spectral_clustering  0.110905          no_zeros\n",
       "10  spectral_clustering  0.126685      complete_log\n",
       "11  spectral_clustering  0.142663  cero_replace_log\n",
       "12  spectral_clustering  0.126010      no_zeros_log"
      ]
     },
     "execution_count": 88,
     "metadata": {},
     "output_type": "execute_result"
    }
   ],
   "source": [
    "results"
   ]
  },
  {
   "cell_type": "code",
   "execution_count": null,
   "id": "1133cd5f-79fd-4cd7-9382-f2e45ae7fad1",
   "metadata": {},
   "outputs": [],
   "source": []
  }
 ],
 "metadata": {
  "kernelspec": {
   "display_name": "Python 3 (ipykernel)",
   "language": "python",
   "name": "python3"
  },
  "language_info": {
   "codemirror_mode": {
    "name": "ipython",
    "version": 3
   },
   "file_extension": ".py",
   "mimetype": "text/x-python",
   "name": "python",
   "nbconvert_exporter": "python",
   "pygments_lexer": "ipython3",
   "version": "3.9.7"
  }
 },
 "nbformat": 4,
 "nbformat_minor": 5
}
