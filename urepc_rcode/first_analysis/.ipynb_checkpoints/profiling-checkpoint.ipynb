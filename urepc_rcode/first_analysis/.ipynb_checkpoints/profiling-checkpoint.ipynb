{
 "cells": [
  {
   "cell_type": "code",
   "execution_count": 1,
   "id": "6b144789",
   "metadata": {},
   "outputs": [],
   "source": [
    "import pandas as pd \n",
    "from pandas_profiling import ProfileReport\n",
    "import numpy as np\n",
    "import seaborn as sns"
   ]
  },
  {
   "cell_type": "markdown",
   "id": "a5dba005",
   "metadata": {},
   "source": [
    "# Load data prad_Liu_FPKM_1.5CPMcutoff"
   ]
  },
  {
   "cell_type": "code",
   "execution_count": 2,
   "id": "912ac22d",
   "metadata": {},
   "outputs": [],
   "source": [
    "data = pd.read_csv('./data/prad_Liu_FPKM_1.5CPMcutoff.csv')"
   ]
  },
  {
   "cell_type": "code",
   "execution_count": 3,
   "id": "0bb6881c",
   "metadata": {},
   "outputs": [
    {
     "data": {
      "text/html": [
       "<div>\n",
       "<style scoped>\n",
       "    .dataframe tbody tr th:only-of-type {\n",
       "        vertical-align: middle;\n",
       "    }\n",
       "\n",
       "    .dataframe tbody tr th {\n",
       "        vertical-align: top;\n",
       "    }\n",
       "\n",
       "    .dataframe thead th {\n",
       "        text-align: right;\n",
       "    }\n",
       "</style>\n",
       "<table border=\"1\" class=\"dataframe\">\n",
       "  <thead>\n",
       "    <tr style=\"text-align: right;\">\n",
       "      <th></th>\n",
       "      <th>gene</th>\n",
       "      <th>C42_1</th>\n",
       "      <th>C42_2</th>\n",
       "      <th>C42_3</th>\n",
       "      <th>C42B_1</th>\n",
       "      <th>C42B_2</th>\n",
       "      <th>C42B_3</th>\n",
       "      <th>LNCAP_1</th>\n",
       "      <th>LNCAP_2</th>\n",
       "      <th>LNCAP_3</th>\n",
       "      <th>MR49F_1</th>\n",
       "      <th>MR49F_2</th>\n",
       "      <th>MR49F_3</th>\n",
       "    </tr>\n",
       "  </thead>\n",
       "  <tbody>\n",
       "    <tr>\n",
       "      <th>0</th>\n",
       "      <td>ENSG00000000003</td>\n",
       "      <td>6.540650</td>\n",
       "      <td>21.487661</td>\n",
       "      <td>85.735569</td>\n",
       "      <td>330.112296</td>\n",
       "      <td>36.110825</td>\n",
       "      <td>179.721849</td>\n",
       "      <td>30.936944</td>\n",
       "      <td>418.273960</td>\n",
       "      <td>19.503919</td>\n",
       "      <td>20.990660</td>\n",
       "      <td>127.590090</td>\n",
       "      <td>15.750874</td>\n",
       "    </tr>\n",
       "    <tr>\n",
       "      <th>1</th>\n",
       "      <td>ENSG00000000419</td>\n",
       "      <td>67.261810</td>\n",
       "      <td>4.700330</td>\n",
       "      <td>34.984672</td>\n",
       "      <td>1273.007947</td>\n",
       "      <td>12.919233</td>\n",
       "      <td>154.533425</td>\n",
       "      <td>204.070805</td>\n",
       "      <td>1460.097674</td>\n",
       "      <td>6.630296</td>\n",
       "      <td>14.726688</td>\n",
       "      <td>161.258201</td>\n",
       "      <td>39.949502</td>\n",
       "    </tr>\n",
       "    <tr>\n",
       "      <th>2</th>\n",
       "      <td>ENSG00000000457</td>\n",
       "      <td>16.635584</td>\n",
       "      <td>11.926433</td>\n",
       "      <td>52.500930</td>\n",
       "      <td>3.933548</td>\n",
       "      <td>2.179575</td>\n",
       "      <td>17.395406</td>\n",
       "      <td>38.555940</td>\n",
       "      <td>61.153109</td>\n",
       "      <td>6.136623</td>\n",
       "      <td>64.293910</td>\n",
       "      <td>9.027725</td>\n",
       "      <td>2.234654</td>\n",
       "    </tr>\n",
       "    <tr>\n",
       "      <th>3</th>\n",
       "      <td>ENSG00000000460</td>\n",
       "      <td>4.765569</td>\n",
       "      <td>8.856974</td>\n",
       "      <td>89.668452</td>\n",
       "      <td>29.622643</td>\n",
       "      <td>9.483795</td>\n",
       "      <td>3.085842</td>\n",
       "      <td>20.169995</td>\n",
       "      <td>349.532204</td>\n",
       "      <td>6.722531</td>\n",
       "      <td>20.560535</td>\n",
       "      <td>23.473598</td>\n",
       "      <td>4.697106</td>\n",
       "    </tr>\n",
       "    <tr>\n",
       "      <th>4</th>\n",
       "      <td>ENSG00000001036</td>\n",
       "      <td>31.498590</td>\n",
       "      <td>47.107188</td>\n",
       "      <td>571.179214</td>\n",
       "      <td>293.006854</td>\n",
       "      <td>33.965860</td>\n",
       "      <td>29.440956</td>\n",
       "      <td>187.956510</td>\n",
       "      <td>93.477775</td>\n",
       "      <td>16.484155</td>\n",
       "      <td>129.599038</td>\n",
       "      <td>89.414717</td>\n",
       "      <td>24.793148</td>\n",
       "    </tr>\n",
       "  </tbody>\n",
       "</table>\n",
       "</div>"
      ],
      "text/plain": [
       "              gene      C42_1      C42_2       C42_3       C42B_1     C42B_2  \\\n",
       "0  ENSG00000000003   6.540650  21.487661   85.735569   330.112296  36.110825   \n",
       "1  ENSG00000000419  67.261810   4.700330   34.984672  1273.007947  12.919233   \n",
       "2  ENSG00000000457  16.635584  11.926433   52.500930     3.933548   2.179575   \n",
       "3  ENSG00000000460   4.765569   8.856974   89.668452    29.622643   9.483795   \n",
       "4  ENSG00000001036  31.498590  47.107188  571.179214   293.006854  33.965860   \n",
       "\n",
       "       C42B_3     LNCAP_1      LNCAP_2    LNCAP_3     MR49F_1     MR49F_2  \\\n",
       "0  179.721849   30.936944   418.273960  19.503919   20.990660  127.590090   \n",
       "1  154.533425  204.070805  1460.097674   6.630296   14.726688  161.258201   \n",
       "2   17.395406   38.555940    61.153109   6.136623   64.293910    9.027725   \n",
       "3    3.085842   20.169995   349.532204   6.722531   20.560535   23.473598   \n",
       "4   29.440956  187.956510    93.477775  16.484155  129.599038   89.414717   \n",
       "\n",
       "     MR49F_3  \n",
       "0  15.750874  \n",
       "1  39.949502  \n",
       "2   2.234654  \n",
       "3   4.697106  \n",
       "4  24.793148  "
      ]
     },
     "execution_count": 3,
     "metadata": {},
     "output_type": "execute_result"
    }
   ],
   "source": [
    "data.head()"
   ]
  },
  {
   "cell_type": "markdown",
   "id": "ee9b551a",
   "metadata": {},
   "source": [
    "# Lets work on a log scale, since the data is highly skewed."
   ]
  },
  {
   "cell_type": "code",
   "execution_count": 4,
   "id": "fc2c191d",
   "metadata": {},
   "outputs": [],
   "source": [
    "for col in data.columns[1:] :\n",
    "    data[col] = np.log(data[col]+1)"
   ]
  },
  {
   "cell_type": "markdown",
   "id": "87dd432e",
   "metadata": {},
   "source": [
    "# First look into prad_Liu_FPKM_1.5CPMcutoff"
   ]
  },
  {
   "cell_type": "code",
   "execution_count": 5,
   "id": "af2f8255",
   "metadata": {},
   "outputs": [],
   "source": [
    "profile = ProfileReport(data, title=\"Pandas Profiling Report\")"
   ]
  },
  {
   "cell_type": "code",
   "execution_count": 6,
   "id": "fee48059",
   "metadata": {},
   "outputs": [
    {
     "data": {
      "application/vnd.jupyter.widget-view+json": {
       "model_id": "84a52b1a39a44a6196cf89c937155a4a",
       "version_major": 2,
       "version_minor": 0
      },
      "text/plain": [
       "Summarize dataset:   0%|          | 0/26 [00:00<?, ?it/s]"
      ]
     },
     "metadata": {},
     "output_type": "display_data"
    },
    {
     "data": {
      "application/vnd.jupyter.widget-view+json": {
       "model_id": "69af0b46d6ce49aaabaf04d7c79ab912",
       "version_major": 2,
       "version_minor": 0
      },
      "text/plain": [
       "Generate report structure:   0%|          | 0/1 [00:00<?, ?it/s]"
      ]
     },
     "metadata": {},
     "output_type": "display_data"
    },
    {
     "data": {
      "application/vnd.jupyter.widget-view+json": {
       "model_id": "",
       "version_major": 2,
       "version_minor": 0
      },
      "text/plain": [
       "Render widgets:   0%|          | 0/1 [00:00<?, ?it/s]"
      ]
     },
     "metadata": {},
     "output_type": "display_data"
    },
    {
     "data": {
      "application/vnd.jupyter.widget-view+json": {
       "model_id": "c9ccd98fa7fc4bbf9c479ecb980259ee",
       "version_major": 2,
       "version_minor": 0
      },
      "text/plain": [
       "VBox(children=(Tab(children=(Tab(children=(GridBox(children=(VBox(children=(GridspecLayout(children=(HTML(valu…"
      ]
     },
     "metadata": {},
     "output_type": "display_data"
    }
   ],
   "source": [
    "profile.to_widgets()"
   ]
  },
  {
   "cell_type": "code",
   "execution_count": 7,
   "id": "e69ae9e1",
   "metadata": {
    "scrolled": true
   },
   "outputs": [
    {
     "data": {
      "application/vnd.jupyter.widget-view+json": {
       "model_id": "be0866ff8b574173ad2fafb2c4e82c38",
       "version_major": 2,
       "version_minor": 0
      },
      "text/plain": [
       "Render HTML:   0%|          | 0/1 [00:00<?, ?it/s]"
      ]
     },
     "metadata": {},
     "output_type": "display_data"
    },
    {
     "data": {
      "application/vnd.jupyter.widget-view+json": {
       "model_id": "59b13b5c59cb412fbfe29bf9ed9e6fed",
       "version_major": 2,
       "version_minor": 0
      },
      "text/plain": [
       "Export report to file:   0%|          | 0/1 [00:00<?, ?it/s]"
      ]
     },
     "metadata": {},
     "output_type": "display_data"
    }
   ],
   "source": [
    "profile.to_file(\"FIRST_VIEW_prad_Liu_FPKM_1.5CPMcutoff.html\")"
   ]
  },
  {
   "cell_type": "markdown",
   "id": "d14b413a",
   "metadata": {},
   "source": [
    "# Load data prad_Liu_FPKM_2CPMcutoff"
   ]
  },
  {
   "cell_type": "code",
   "execution_count": 8,
   "id": "943b40a6",
   "metadata": {},
   "outputs": [],
   "source": [
    "data = pd.read_csv('./data/prad_Liu_FPKM_2CPMcutoff.csv')"
   ]
  },
  {
   "cell_type": "code",
   "execution_count": 9,
   "id": "df0df48f",
   "metadata": {},
   "outputs": [
    {
     "data": {
      "text/html": [
       "<div>\n",
       "<style scoped>\n",
       "    .dataframe tbody tr th:only-of-type {\n",
       "        vertical-align: middle;\n",
       "    }\n",
       "\n",
       "    .dataframe tbody tr th {\n",
       "        vertical-align: top;\n",
       "    }\n",
       "\n",
       "    .dataframe thead th {\n",
       "        text-align: right;\n",
       "    }\n",
       "</style>\n",
       "<table border=\"1\" class=\"dataframe\">\n",
       "  <thead>\n",
       "    <tr style=\"text-align: right;\">\n",
       "      <th></th>\n",
       "      <th>Unnamed: 0</th>\n",
       "      <th>C42_1</th>\n",
       "      <th>C42_2</th>\n",
       "      <th>C42_3</th>\n",
       "      <th>C42B_1</th>\n",
       "      <th>C42B_2</th>\n",
       "      <th>C42B_3</th>\n",
       "      <th>LNCAP_1</th>\n",
       "      <th>LNCAP_2</th>\n",
       "      <th>LNCAP_3</th>\n",
       "      <th>MR49F_1</th>\n",
       "      <th>MR49F_2</th>\n",
       "      <th>MR49F_3</th>\n",
       "    </tr>\n",
       "  </thead>\n",
       "  <tbody>\n",
       "    <tr>\n",
       "      <th>0</th>\n",
       "      <td>ENSG00000000003</td>\n",
       "      <td>6.540650</td>\n",
       "      <td>4.959669</td>\n",
       "      <td>9.217752</td>\n",
       "      <td>23.459223</td>\n",
       "      <td>6.884049</td>\n",
       "      <td>629.026470</td>\n",
       "      <td>25.990813</td>\n",
       "      <td>12.565353</td>\n",
       "      <td>8.225953</td>\n",
       "      <td>23.277251</td>\n",
       "      <td>132.531960</td>\n",
       "      <td>17.922204</td>\n",
       "    </tr>\n",
       "    <tr>\n",
       "      <th>1</th>\n",
       "      <td>ENSG00000000419</td>\n",
       "      <td>67.261810</td>\n",
       "      <td>110.493986</td>\n",
       "      <td>202.293720</td>\n",
       "      <td>87.942791</td>\n",
       "      <td>5.637718</td>\n",
       "      <td>550.182832</td>\n",
       "      <td>310.479154</td>\n",
       "      <td>112.624614</td>\n",
       "      <td>5.875149</td>\n",
       "      <td>196.104103</td>\n",
       "      <td>278.451662</td>\n",
       "      <td>60.050169</td>\n",
       "    </tr>\n",
       "    <tr>\n",
       "      <th>2</th>\n",
       "      <td>ENSG00000000457</td>\n",
       "      <td>16.635584</td>\n",
       "      <td>2.952401</td>\n",
       "      <td>17.684040</td>\n",
       "      <td>118.923467</td>\n",
       "      <td>4.137576</td>\n",
       "      <td>219.333380</td>\n",
       "      <td>24.108856</td>\n",
       "      <td>38.465615</td>\n",
       "      <td>3.948556</td>\n",
       "      <td>39.484847</td>\n",
       "      <td>63.953983</td>\n",
       "      <td>51.051127</td>\n",
       "    </tr>\n",
       "    <tr>\n",
       "      <th>3</th>\n",
       "      <td>ENSG00000000460</td>\n",
       "      <td>4.765569</td>\n",
       "      <td>40.527364</td>\n",
       "      <td>158.414266</td>\n",
       "      <td>8.043746</td>\n",
       "      <td>5.668570</td>\n",
       "      <td>226.717240</td>\n",
       "      <td>43.935512</td>\n",
       "      <td>56.790532</td>\n",
       "      <td>20.824250</td>\n",
       "      <td>34.785556</td>\n",
       "      <td>39.652450</td>\n",
       "      <td>53.495471</td>\n",
       "    </tr>\n",
       "    <tr>\n",
       "      <th>4</th>\n",
       "      <td>ENSG00000001036</td>\n",
       "      <td>31.498590</td>\n",
       "      <td>157.167492</td>\n",
       "      <td>483.071782</td>\n",
       "      <td>21.329285</td>\n",
       "      <td>44.157482</td>\n",
       "      <td>2170.452721</td>\n",
       "      <td>116.768622</td>\n",
       "      <td>187.364644</td>\n",
       "      <td>21.636449</td>\n",
       "      <td>107.637190</td>\n",
       "      <td>111.884620</td>\n",
       "      <td>180.889571</td>\n",
       "    </tr>\n",
       "  </tbody>\n",
       "</table>\n",
       "</div>"
      ],
      "text/plain": [
       "        Unnamed: 0      C42_1       C42_2       C42_3      C42B_1     C42B_2  \\\n",
       "0  ENSG00000000003   6.540650    4.959669    9.217752   23.459223   6.884049   \n",
       "1  ENSG00000000419  67.261810  110.493986  202.293720   87.942791   5.637718   \n",
       "2  ENSG00000000457  16.635584    2.952401   17.684040  118.923467   4.137576   \n",
       "3  ENSG00000000460   4.765569   40.527364  158.414266    8.043746   5.668570   \n",
       "4  ENSG00000001036  31.498590  157.167492  483.071782   21.329285  44.157482   \n",
       "\n",
       "        C42B_3     LNCAP_1     LNCAP_2    LNCAP_3     MR49F_1     MR49F_2  \\\n",
       "0   629.026470   25.990813   12.565353   8.225953   23.277251  132.531960   \n",
       "1   550.182832  310.479154  112.624614   5.875149  196.104103  278.451662   \n",
       "2   219.333380   24.108856   38.465615   3.948556   39.484847   63.953983   \n",
       "3   226.717240   43.935512   56.790532  20.824250   34.785556   39.652450   \n",
       "4  2170.452721  116.768622  187.364644  21.636449  107.637190  111.884620   \n",
       "\n",
       "      MR49F_3  \n",
       "0   17.922204  \n",
       "1   60.050169  \n",
       "2   51.051127  \n",
       "3   53.495471  \n",
       "4  180.889571  "
      ]
     },
     "execution_count": 9,
     "metadata": {},
     "output_type": "execute_result"
    }
   ],
   "source": [
    "data.head()"
   ]
  },
  {
   "cell_type": "markdown",
   "id": "a4c862de",
   "metadata": {},
   "source": [
    "# Lets work on a log scale, since the data is highly skewed."
   ]
  },
  {
   "cell_type": "code",
   "execution_count": 10,
   "id": "4616cf11",
   "metadata": {},
   "outputs": [],
   "source": [
    "for col in data.columns[1:] :\n",
    "    data[col] = np.log(data[col]+1)"
   ]
  },
  {
   "cell_type": "markdown",
   "id": "a07ccc86",
   "metadata": {},
   "source": [
    "# First look into prad_Liu_FPKM_2CPMcutoff"
   ]
  },
  {
   "cell_type": "code",
   "execution_count": 11,
   "id": "ddcda8ea",
   "metadata": {},
   "outputs": [],
   "source": [
    "profile = ProfileReport(data, title=\"Pandas Profiling Report\")"
   ]
  },
  {
   "cell_type": "code",
   "execution_count": 12,
   "id": "6fc416fa",
   "metadata": {},
   "outputs": [
    {
     "data": {
      "application/vnd.jupyter.widget-view+json": {
       "model_id": "d19eb52f5d5044eeae5df2505a90f8c6",
       "version_major": 2,
       "version_minor": 0
      },
      "text/plain": [
       "Summarize dataset:   0%|          | 0/26 [00:00<?, ?it/s]"
      ]
     },
     "metadata": {},
     "output_type": "display_data"
    },
    {
     "data": {
      "application/vnd.jupyter.widget-view+json": {
       "model_id": "8960a30bd6394693bcb82605a290b014",
       "version_major": 2,
       "version_minor": 0
      },
      "text/plain": [
       "Generate report structure:   0%|          | 0/1 [00:00<?, ?it/s]"
      ]
     },
     "metadata": {},
     "output_type": "display_data"
    },
    {
     "data": {
      "application/vnd.jupyter.widget-view+json": {
       "model_id": "",
       "version_major": 2,
       "version_minor": 0
      },
      "text/plain": [
       "Render widgets:   0%|          | 0/1 [00:00<?, ?it/s]"
      ]
     },
     "metadata": {},
     "output_type": "display_data"
    },
    {
     "data": {
      "application/vnd.jupyter.widget-view+json": {
       "model_id": "b8e707782fe34528b9b15584cd274ae7",
       "version_major": 2,
       "version_minor": 0
      },
      "text/plain": [
       "VBox(children=(Tab(children=(Tab(children=(GridBox(children=(VBox(children=(GridspecLayout(children=(HTML(valu…"
      ]
     },
     "metadata": {},
     "output_type": "display_data"
    }
   ],
   "source": [
    "profile.to_widgets()"
   ]
  },
  {
   "cell_type": "code",
   "execution_count": 13,
   "id": "9d6c69c6",
   "metadata": {
    "scrolled": true
   },
   "outputs": [
    {
     "data": {
      "application/vnd.jupyter.widget-view+json": {
       "model_id": "85fa876872dc4b9a8239e0750c1ded22",
       "version_major": 2,
       "version_minor": 0
      },
      "text/plain": [
       "Render HTML:   0%|          | 0/1 [00:00<?, ?it/s]"
      ]
     },
     "metadata": {},
     "output_type": "display_data"
    },
    {
     "data": {
      "application/vnd.jupyter.widget-view+json": {
       "model_id": "3bdc94831cc847dfadfcb1c462330ff4",
       "version_major": 2,
       "version_minor": 0
      },
      "text/plain": [
       "Export report to file:   0%|          | 0/1 [00:00<?, ?it/s]"
      ]
     },
     "metadata": {},
     "output_type": "display_data"
    }
   ],
   "source": [
    "profile.to_file(\"FIRST_VIEW_prad_Liu_FPKM_2CPMcutoff.html\")"
   ]
  },
  {
   "cell_type": "code",
   "execution_count": null,
   "id": "c991b5b4",
   "metadata": {},
   "outputs": [],
   "source": []
  }
 ],
 "metadata": {
  "kernelspec": {
   "display_name": "Python 3 (ipykernel)",
   "language": "python",
   "name": "python3"
  },
  "language_info": {
   "codemirror_mode": {
    "name": "ipython",
    "version": 3
   },
   "file_extension": ".py",
   "mimetype": "text/x-python",
   "name": "python",
   "nbconvert_exporter": "python",
   "pygments_lexer": "ipython3",
   "version": "3.9.6"
  }
 },
 "nbformat": 4,
 "nbformat_minor": 5
}
